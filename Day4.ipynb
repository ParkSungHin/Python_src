{
 "cells": [
  {
   "cell_type": "code",
   "execution_count": 17,
   "metadata": {},
   "outputs": [],
   "source": [
    "#재귀함수\n",
    "#반복문으로 팩토리얼 수 구하기\n",
    "def fact(n):\n",
    "    global counter\n",
    "    output = 1\n",
    "    for i in range(1,n+1):\n",
    "        output *= i\n",
    "        counter += 1\n",
    "    return output\n",
    "\n",
    "#재귀함수로 팩토리얼 구하기\n",
    "def fact_rac(n):           #n * fact_rac(n-1)\n",
    "    # n이 0이면 1을 return\n",
    "    global counter\n",
    "    counter += 1\n",
    "    if n == 0:\n",
    "        return 1\n",
    "    else:\n",
    "        return n * fact_rac(n-1)  --> # 질문"
   ]
  },
  {
   "cell_type": "code",
   "execution_count": 18,
   "metadata": {},
   "outputs": [
    {
     "name": "stdout",
     "output_type": "stream",
     "text": [
      "720 6\n"
     ]
    }
   ],
   "source": [
    "counter = 0\n",
    "print(fact(6), counter) #6! 구함"
   ]
  },
  {
   "cell_type": "code",
   "execution_count": 12,
   "metadata": {},
   "outputs": [
    {
     "name": "stdout",
     "output_type": "stream",
     "text": [
      "720 7\n"
     ]
    }
   ],
   "source": [
    "counter = 0\n",
    "print(fact_rac(6),counter) #6! 구함"
   ]
  },
  {
   "cell_type": "code",
   "execution_count": 8,
   "metadata": {},
   "outputs": [],
   "source": [
    "# 피보나치 수열 : 1=1, 2=1, f(n), = f(n-1) + f(n-2)\n",
    "def fibo(n):  # 실행속도가 느림 -> 함수 호출 횟수가 중복해서 호출\n",
    "#     print(\"fibonacci({}) 를 구함\".format(n))\n",
    "    global counter\n",
    "    counter += 1\n",
    "    if n == 1:\n",
    "        return 1\n",
    "    if n == 2:\n",
    "        return 1\n",
    "    return fibo(n-1) + fibo (n-2)\n",
    "\n",
    "def fibo_memo(n):\n",
    "    global counter\n",
    "    counter += 1\n",
    "    if n in dictionary:\n",
    "        return dictionary[n]\n",
    "\n",
    "    output = fibo_memo(n-1) + fibo_memo(n-2)\n",
    "    dictionary[n] = output\n",
    "    return output"
   ]
  },
  {
   "cell_type": "code",
   "execution_count": 9,
   "metadata": {},
   "outputs": [
    {
     "name": "stdout",
     "output_type": "stream",
     "text": [
      "실행 횟수 : 18454929 \n",
      "fibo_memo() 실행횟수 : 1 \n",
      "{1: 1, 2: 1}\n"
     ]
    }
   ],
   "source": [
    "counter = 0\n",
    "fibo(35)\n",
    "print(\"실행 횟수 : {} \".format(counter))\n",
    "\n",
    "dictionary = {1:1, 2:1}\n",
    "counter = 0\n",
    "fibo_memo(35)\n",
    "print(\"fibo_memo() 실행횟수 : {} \".format(counter))\n",
    "print(dictionary)"
   ]
  },
  {
   "cell_type": "code",
   "execution_count": 22,
   "metadata": {},
   "outputs": [
    {
     "name": "stdout",
     "output_type": "stream",
     "text": [
      "[1, 4, 9, 16, 25]\n",
      "[1, 2]\n"
     ]
    }
   ],
   "source": [
    "# 고급 함수 : lambda\n",
    "# 함수를 매개변수로 전달하는 대표적인 표준함수\n",
    "# map(함수, 리스트) --> 리스트의 각 요소에 함수를 적용\n",
    "# filter(함수, 리스트) : 각 요소중 조건에 맞는 요소만 함수를 적용\n",
    "def power(item):\n",
    "    return item * item\n",
    "def under_3(item):\n",
    "    return item < 3\n",
    "\n",
    "list_a = [1,2,3,4,5]\n",
    "# map() 함수 이용\n",
    "output_a = map(power,list_a)\n",
    "print(list(output_a))\n",
    "\n",
    "# fliter() 함수 이용\n",
    "output_b = filter(under_3,list_a)\n",
    "print(list(output_b))"
   ]
  },
  {
   "cell_type": "code",
   "execution_count": 81,
   "metadata": {},
   "outputs": [
    {
     "name": "stdout",
     "output_type": "stream",
     "text": [
      "<map object at 0x000001F181DFD700>\n",
      "[1, 4, 9, 16, 25]\n",
      "<map object at 0x000001F181DFD700>\n",
      "[1, 2]\n"
     ]
    }
   ],
   "source": [
    "list_a = [1,2,3,4,5]\n",
    "# map() 함수 이용, inline lambda\n",
    "output_a = map(lambda x: x * x, list_a)\n",
    "print(list(output_a))\n",
    "\n",
    "# fliter() 함수 이용\n",
    "output_b = filter(lambda x: x < 3, list_a)\n",
    "print(list(output_b))"
   ]
  },
  {
   "cell_type": "code",
   "execution_count": 26,
   "metadata": {},
   "outputs": [],
   "source": [
    "# 파일 처리 : fp = open(\"파일명\", \"모드\")  ~ fp.close()\n",
    "fp = open(\"./basic.txt\",\"w\")\n",
    "fp.write(\"file write test!!\")\n",
    "fp.close() # close()를 해줘야 작성 후 내용이 보임"
   ]
  },
  {
   "cell_type": "code",
   "execution_count": 28,
   "metadata": {},
   "outputs": [],
   "source": [
    "# with 키워드를 사용해서 file open , with 구문 종료 시 file 자동close()\n",
    "# 'a' 는 append(추가), 'w'는 기존에 내용 지우고 새로 작성\n",
    "with open(\"basic.txt\",'a') as fp:\n",
    "    fp.write(\"with file write test\\n\")"
   ]
  },
  {
   "cell_type": "code",
   "execution_count": 31,
   "metadata": {
    "scrolled": true
   },
   "outputs": [
    {
     "name": "stdout",
     "output_type": "stream",
     "text": [
      "111 with file write test\n",
      "\n",
      "222 w\n",
      "222 i\n",
      "222 t\n",
      "222 h\n",
      "222  \n",
      "222 f\n",
      "222 i\n",
      "222 l\n",
      "222 e\n",
      "222  \n",
      "222 w\n",
      "222 r\n",
      "222 i\n",
      "222 t\n",
      "222 e\n",
      "222  \n",
      "222 t\n",
      "222 e\n",
      "222 s\n",
      "222 t\n",
      "222 \n",
      "\n"
     ]
    }
   ],
   "source": [
    "#file read\n",
    "with open(\"basic.txt\",'r') as fp:\n",
    "    content = fp.read() # 파일의 전체 데이터를 읽음   \n",
    "    fp.seek(0) # 파일의 처음으로 이동 --> 다 읽어 버렸기 때문\n",
    "    print(\"111\",fp.readline())\n",
    "    fp.seek(0)\n",
    "    for line in fp.readline(): #\\n을 기준으로 데이터를 읽음\n",
    "        print(\"222\",line)"
   ]
  },
  {
   "cell_type": "code",
   "execution_count": 58,
   "metadata": {},
   "outputs": [],
   "source": [
    "# 이름 국어 영어 수학 점수를 입력 받아 파일에 저장 한 후 \n",
    "# 파일의 내용을 가져와서 이름을 키로 성적을 데이터로 딕셔너리에 저장 후\n",
    "# 학생 이름 국어 영어 수학 총점 평균을 출력하는 프로그램 작성\n",
    "# 파일명은 student.txt , 딕셔너리는 student 로 하세요\n",
    "# 입력은 이름에 'q'가 입력되면 종료\n",
    "# 홍길동, 90,80,70 이 형식으로 파일에 저장\n",
    "\n",
    "def input_data():\n",
    "#     while True:\n",
    "    name = input(\"이름 입력 : \")\n",
    "    input_score = []\n",
    "    while name != 'q':\n",
    "        input_score = input(\"국 영 수 점수 입력 : \").split()\n",
    "        if len(input_score) == 3:\n",
    "            break\n",
    "        print(\"다시 입력하시오\")\n",
    "\n",
    "    return name, input_score"
   ]
  },
  {
   "cell_type": "code",
   "execution_count": 63,
   "metadata": {},
   "outputs": [
    {
     "name": "stdout",
     "output_type": "stream",
     "text": [
      "이름 입력 : q\n"
     ]
    }
   ],
   "source": [
    "fp = open(\"student.txt\",\"a+\") \n",
    "while True:\n",
    "    name, score = input_data()\n",
    "#     name = input(\"이름 입력 (홍길동) > \")\n",
    "    #입력된 이름이 'q'이면 입력 종료\n",
    "    if name == 'q':\n",
    "        break\n",
    "#     while True:  # 3과목 점수가 입력되지 않으면 입력 반복\n",
    "#         input_score = input(\"국어 영어 수학 점수 입력 > \").split()\n",
    "#         if len(input_score) == 3:\n",
    "#             break\n",
    "    output = name + ',' + ','.join(score) + '\\n'\n",
    "    fp.write(output)"
   ]
  },
  {
   "cell_type": "code",
   "execution_count": 64,
   "metadata": {},
   "outputs": [
    {
     "name": "stdout",
     "output_type": "stream",
     "text": [
      "line_list :  ['박지훈', '90', '90', '100']\n",
      "line_list :  ['박지훈', '100', '100', '100']\n",
      "line_list :  ['박성진', '100', '12', '30']\n",
      "line_list :  ['박무호', '99', '88', '77']\n",
      "line_list :  ['박박이', '99', '88', '77']\n",
      "line_list :  ['박박이', '100', '99', '88']\n",
      "line_list :  ['박박이', '100', '99', '88']\n",
      "line_list :  ['박지후이', '100', '99', '88']\n",
      "{'박지훈': [100, 100, 100], '박성진': [100, 12, 30], '박무호': [99, 88, 77], '박박이': [100, 99, 88], '박지후이': [100, 99, 88]}\n",
      "['박지후이', '100', '99', '88']\n"
     ]
    }
   ],
   "source": [
    "student = {}\n",
    "fp.seek(0)\n",
    "for line in fp.readlines(): # 라인 단위로 데이터 읽어옴\n",
    "    line_list = line.strip('\\n').split(',') # 마지막 '\\n' 제거 후 ','로 분리\n",
    "    print(\"line_list : \", line_list)\n",
    "    # student['홍길동'] = ['80','90','100'] 형식으로 데이터 저장\n",
    "    student[line_list[0]] = [int(line_list[i]) for i in range(1,4)]\n",
    "fp.close()\n",
    "print(student)\n",
    "print(line_list)"
   ]
  },
  {
   "cell_type": "code",
   "execution_count": 61,
   "metadata": {
    "collapsed": true
   },
   "outputs": [
    {
     "ename": "ValueError",
     "evalue": "I/O operation on closed file.",
     "output_type": "error",
     "traceback": [
      "\u001b[1;31m---------------------------------------------------------------------------\u001b[0m",
      "\u001b[1;31mValueError\u001b[0m                                Traceback (most recent call last)",
      "\u001b[1;32m<ipython-input-61-348b99a2e0b0>\u001b[0m in \u001b[0;36m<module>\u001b[1;34m\u001b[0m\n\u001b[0;32m      1\u001b[0m \u001b[0mstudent\u001b[0m \u001b[1;33m=\u001b[0m \u001b[1;33m{\u001b[0m\u001b[1;33m}\u001b[0m\u001b[1;33m\u001b[0m\u001b[1;33m\u001b[0m\u001b[0m\n\u001b[1;32m----> 2\u001b[1;33m \u001b[0mfp\u001b[0m\u001b[1;33m.\u001b[0m\u001b[0mseek\u001b[0m\u001b[1;33m(\u001b[0m\u001b[1;36m0\u001b[0m\u001b[1;33m)\u001b[0m\u001b[1;33m\u001b[0m\u001b[1;33m\u001b[0m\u001b[0m\n\u001b[0m\u001b[0;32m      3\u001b[0m \u001b[1;32mfor\u001b[0m \u001b[0mline\u001b[0m \u001b[1;32min\u001b[0m \u001b[0mfp\u001b[0m\u001b[1;33m.\u001b[0m\u001b[0mreadlines\u001b[0m\u001b[1;33m(\u001b[0m\u001b[1;33m)\u001b[0m\u001b[1;33m:\u001b[0m \u001b[1;31m# 라인 단위로 데이터 읽어옴\u001b[0m\u001b[1;33m\u001b[0m\u001b[1;33m\u001b[0m\u001b[0m\n\u001b[0;32m      4\u001b[0m     \u001b[0mline_list\u001b[0m \u001b[1;33m=\u001b[0m \u001b[0mline\u001b[0m\u001b[1;33m.\u001b[0m\u001b[0mstrip\u001b[0m\u001b[1;33m(\u001b[0m\u001b[1;34m'\\n'\u001b[0m\u001b[1;33m)\u001b[0m\u001b[1;33m.\u001b[0m\u001b[0msplit\u001b[0m\u001b[1;33m(\u001b[0m\u001b[1;34m','\u001b[0m\u001b[1;33m)\u001b[0m \u001b[1;31m# 마지막 '\\n' 제거 후 ','로 분리\u001b[0m\u001b[1;33m\u001b[0m\u001b[1;33m\u001b[0m\u001b[0m\n\u001b[0;32m      5\u001b[0m     \u001b[0mprint\u001b[0m\u001b[1;33m(\u001b[0m\u001b[1;34m\"line_list : \"\u001b[0m\u001b[1;33m,\u001b[0m \u001b[0mline_list\u001b[0m\u001b[1;33m)\u001b[0m\u001b[1;33m\u001b[0m\u001b[1;33m\u001b[0m\u001b[0m\n",
      "\u001b[1;31mValueError\u001b[0m: I/O operation on closed file."
     ]
    }
   ],
   "source": [
    "student = {}\n",
    "fp.seek(0)\n",
    "for line in fp.readlines(): # 라인 단위로 데이터 읽어옴\n",
    "    line_list = line.strip('\\n').split(',') # 마지막 '\\n' 제거 후 ','로 분리\n",
    "    print(\"line_list : \", line_list)\n",
    "    # student[line_list[0]] = list(map(lambda x:int(x),\n",
    "    #                              [line_list[i] for i in range(1,4) ]))\n",
    "    \n",
    "    student[line_list[0]] = [int(line_list[i]) for i in range(1,4)]\n",
    "fp.close()\n",
    "print(student)\n"
   ]
  },
  {
   "cell_type": "code",
   "execution_count": 65,
   "metadata": {},
   "outputs": [
    {
     "name": "stdout",
     "output_type": "stream",
     "text": [
      "박지훈: [100, 100, 100] 300 100.00\n",
      "박성진: [100, 12, 30] 142 47.33\n",
      "박무호: [99, 88, 77] 264 88.00\n",
      "박박이: [100, 99, 88] 287 95.67\n",
      "박지후이: [100, 99, 88] 287 95.67\n"
     ]
    }
   ],
   "source": [
    "for key, score in student.items():\n",
    "    print(\"{}: {} {} {:3.2f}\".format(key,\n",
    "                                    score, sum(score),sum(score)/3))"
   ]
  },
  {
   "cell_type": "code",
   "execution_count": 68,
   "metadata": {},
   "outputs": [
    {
     "name": "stdout",
     "output_type": "stream",
     "text": [
      "first \n",
      "Second\n",
      "test func\n",
      "<generator object test at 0x000001F1820A3D60>\n"
     ]
    }
   ],
   "source": [
    "# 제너레이터 함수 : yeild 가 존재하면 함수가 존재해도 실행되지 않음\n",
    "# next() 함수를 사용하여 실행\n",
    "def test():\n",
    "    print(\"test func\")\n",
    "    yield \"test\"\n",
    "\n",
    "# 함수 호출\n",
    "print(\"first \")\n",
    "test()\n",
    "\n",
    "print(\"Second\")\n",
    "next(test())\n",
    "\n",
    "print(test())"
   ]
  },
  {
   "cell_type": "code",
   "execution_count": 70,
   "metadata": {},
   "outputs": [
    {
     "name": "stdout",
     "output_type": "stream",
     "text": [
      "D 지점 통과\n",
      "A 지점 통과\n",
      "1\n",
      "E 지점 통과\n",
      "B 지점 통과\n",
      "2\n",
      "C 지점 통과\n"
     ]
    }
   ],
   "source": [
    "# 제너레이터 함수는 next(제너레이터 함수명)으로 실행 , yeild를 만나면 멈춤\n",
    "def test():\n",
    "    print(\"A 지점 통과\")\n",
    "    yield 1\n",
    "    print(\"B 지점 통과\")\n",
    "    yield 2\n",
    "    print(\"C 지점 통과\")\n",
    "    yield \n",
    "# 함수 호출\n",
    "func = test()\n",
    "print(\"D 지점 통과\") # 1\n",
    "print(next(func))    # A 지점 통과,\n",
    "print(\"E 지점 통과\") # E 지점 통과\n",
    "print(next(func))    # B지점 통과,2\n",
    "next(func)"
   ]
  },
  {
   "cell_type": "code",
   "execution_count": 71,
   "metadata": {},
   "outputs": [
    {
     "data": {
      "text/plain": [
       "0.3333333333333333"
      ]
     },
     "execution_count": 71,
     "metadata": {},
     "output_type": "execute_result"
    }
   ],
   "source": [
    "(lambda x,y: x/y)(1,3)\n",
    "# func(값,...,..)"
   ]
  },
  {
   "cell_type": "code",
   "execution_count": 74,
   "metadata": {},
   "outputs": [
    {
     "name": "stdout",
     "output_type": "stream",
     "text": [
      "정수 입력 ㅈㅂㄷ\n"
     ]
    }
   ],
   "source": [
    "# try ~ except : 프로그램 실행시 예외 발생 시 | 처리하는 구문\n",
    "# try:\n",
    "#     예외 발생 가능성 있는 코드\n",
    "# except:\n",
    "#     예외 발생 시 실행하는 코드\n",
    "# else :\n",
    "#     try에서 예외가 발생하지 않았을 때 실행하는 코드\n",
    "# finally :\n",
    "#     무조건 실행하는 코드 \n",
    "try:\n",
    "    input_num = int(input(\"정수 입력 \"))\n",
    "    print(input_num * 2)\n",
    "except:\n",
    "    pass\n",
    "# print(\"정수를 입력하세요\")"
   ]
  },
  {
   "cell_type": "code",
   "execution_count": 79,
   "metadata": {},
   "outputs": [
    {
     "name": "stdout",
     "output_type": "stream",
     "text": [
      "run time error\n",
      "not readable\n",
      "The end\n",
      "file closed :  True\n"
     ]
    }
   ],
   "source": [
    "try:\n",
    "    fp = open(\"info1.txt\",\"w\")\n",
    "    fp.write(\"try test file \\n\")\n",
    "    fp.read()\n",
    "    fp.close()\n",
    "except Exception as e:\n",
    "    print(\"run time error\")\n",
    "    print(e)\n",
    "else:\n",
    "    print(\"file read\")\n",
    "    try:\n",
    "        fp.read()\n",
    "    except:\n",
    "        print(\"flie read error\")\n",
    "finally:\n",
    "    print(\"The end\")\n",
    "    fp.close()\n",
    "    \n",
    "print(\"file closed : \", fp.closed)"
   ]
  },
  {
   "cell_type": "code",
   "execution_count": 80,
   "metadata": {},
   "outputs": [
    {
     "name": "stdout",
     "output_type": "stream",
     "text": [
      "func start\n",
      "try 구문 실행\n",
      "finally 실행\n"
     ]
    }
   ],
   "source": [
    "# try ~ except ~ else ~ finally ~ : finally는 어느 경우에도 무조건 실행\n",
    "def test():\n",
    "    print(\"func start\")\n",
    "    try:\n",
    "        print(\"try 구문 실행\")\n",
    "        return\n",
    "    except:\n",
    "        print(\"except 구문 실행\")\n",
    "    finally:\n",
    "        print(\"finally 실행\")\n",
    "    print(\"test end\")\n",
    "\n",
    "test()"
   ]
  },
  {
   "cell_type": "code",
   "execution_count": null,
   "metadata": {},
   "outputs": [],
   "source": [
    "def input_data(fp):\n",
    "    while True:\n",
    "        try:   \n",
    "            i_data = input(\"이름 성적 입력\").split()\n",
    "            name = i_data[0]\n",
    "            if name == 'q': \n",
    "                return\n",
    "            score =  i_data[1]\n",
    "            fp.write(','.join(i_data)+'\\n')\n",
    "        except Exception as e:\n",
    "            print(\"입력 오류 --> 다시 입력해주세요 : \",e)\n",
    "        finally:\n",
    "            print(\"입력 종료\")\n",
    "            \n",
    "def read_file():\n",
    "    global fp\n",
    "    fp.seek(0,0)\n",
    "    for line in fp:\n",
    "        line_list = line.split(',')\n",
    "        print(\"{} : {}\".format(line_list[0],line_list[1]))"
   ]
  },
  {
   "cell_type": "code",
   "execution_count": null,
   "metadata": {},
   "outputs": [],
   "source": [
    "# 이름과 성적을 입력 받아 파일에 저장하는 프로그램 작성\n",
    "# try ~ except ~ finally 를 사용하여 입력 자료 검증\n",
    "# 이름은 isalpha , 점수는 isdigit인지 확인\n",
    "# 이름에 'q'가 입력되면 종료\n",
    "try:\n",
    "    fp = open(\"student.csv\", \"w+\")\n",
    "    input_data(fp)  #  이름과 성적 입력\n",
    "    read_file()\n",
    "except Exception as e:\n",
    "    print(e)\n",
    "finally:\n",
    "    print(\"file close\")\n",
    "    fp.close()\n",
    "print(\"progeam end\")"
   ]
  },
  {
   "cell_type": "code",
   "execution_count": null,
   "metadata": {},
   "outputs": [],
   "source": [
    "숫자(int, float), 문자(str), boolean(True, False)\n",
    "데이터를 여러개 모은 것 : list [], dictionary {키:값, ...}, tuple()\n",
    "if ~ else \n",
    "if ~ elif ~ else\n",
    "while ~ break continue\n",
    "for 변수 in 반복자\n",
    "\n",
    "def 함수(매개변수, ...)  -> yield  ->  호출 next()\n",
    "호출\n",
    "함수(값, ... )\n",
    "\n",
    "try: ~ except ~ else ~ finally\n",
    "file  = open(파일명, 모드)\n",
    "with  open(파일명, 모드) as file:\n",
    "    \n",
    "문자열 관련함수 => 문자열.upper(), lower, isOO(), split(), strip() \n",
    " 문자열[ start : stop ] start 포함 stop 포함 안함\n",
    "리스트 관련함수 -> 데이터 추가 .append(), insert(), extend()\n",
    "                 제거 리스트.pop(), 리스트.remove()\n",
    "                 수정 리스트[인덱스] = 값\n",
    "                리스트.reversed()\n",
    "                리스트.sort()\n",
    "sum(리스트)  , max(리스트) , min(리스트) \n",
    "딕셔너리 -> dict.kyes(), values(), items()\n",
    "      수정 dict[키] = 값\n",
    "      추가 dict[추가 키] = 값\n",
    "자료 삭제 : del 리스트[], del dict[키]    \n",
    "\n",
    "특별한 함수 (lambda x,y : return 값)(x,y)\n",
    "type(변수)\n",
    "len(변수)\n",
    "range(start , stop, step)"
   ]
  },
  {
   "cell_type": "code",
   "execution_count": null,
   "metadata": {},
   "outputs": [],
   "source": [
    "list_a = [1,2,3]\n",
    "#list_b = list_a.copy()\n",
    "list_b = list_a\n",
    "list_b[1] = 10 #list_a가 수정 됨\n",
    "print(list_a)\n",
    "print(list_b)"
   ]
  },
  {
   "cell_type": "code",
   "execution_count": null,
   "metadata": {},
   "outputs": [],
   "source": []
  }
 ],
 "metadata": {
  "kernelspec": {
   "display_name": "Python 3",
   "language": "python",
   "name": "python3"
  },
  "language_info": {
   "codemirror_mode": {
    "name": "ipython",
    "version": 3
   },
   "file_extension": ".py",
   "mimetype": "text/x-python",
   "name": "python",
   "nbconvert_exporter": "python",
   "pygments_lexer": "ipython3",
   "version": "3.8.5"
  }
 },
 "nbformat": 4,
 "nbformat_minor": 4
}

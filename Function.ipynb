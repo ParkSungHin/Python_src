{
 "cells": [
  {
   "cell_type": "code",
   "execution_count": 26,
   "metadata": {},
   "outputs": [],
   "source": [
    "# 함수 : 코드의 집합\n",
    "# 선언 (정의) \n",
    "# def 함수명(매개변수, ...): 일반, 가변, 키워드\n",
    "#     들여쓰기\n",
    "#     return 값\n",
    "\n",
    "def print_3_times():\n",
    "    print('hello!!\\n'*3)\n",
    "\n",
    "def print_n_times(value, n): #기본형\n",
    "    for i in range(n):\n",
    "        print(value)\n",
    "        \n",
    "def print_val_times(n,*values): # 가변 매개변수, 마지막에 하나만 사용\n",
    "    for i in range(n):\n",
    "        for value in values:\n",
    "            print(value,end ='\\t')\n",
    "        print()\n",
    "def compute_func(num1 , num2 =100): # num2 = 100 --> 키워드(default: 고정값)\n",
    "    return num1 + num2\n",
    "# 매개변수 나열 순서 --> 기본, 가변, 키워드"
   ]
  },
  {
   "cell_type": "code",
   "execution_count": 28,
   "metadata": {
    "scrolled": true
   },
   "outputs": [
    {
     "name": "stdout",
     "output_type": "stream",
     "text": [
      "hello!!\n",
      "hello!!\n",
      "hello!!\n",
      "\n",
      "\n",
      "test\n",
      "test\n",
      "\n",
      "test\tdata\t세번째 데이터\t\n",
      "test\tdata\t세번째 데이터\t\n",
      "\n",
      "40\n",
      "120\n",
      "220\n"
     ]
    }
   ],
   "source": [
    "print_3_times() # 함수 호출\n",
    "print()\n",
    "print_n_times('test',2)\n",
    "print()\n",
    "print_val_times(2,'test','data','세번째 데이터')\n",
    "print()\n",
    "print(compute_func(10,30)) # num1 + num2\n",
    "print(compute_func(20)) # num2 에 100이 입력됨 ==> 키워드\n",
    "print(compute_func(20,200)) #num2에 200 직접 입력해서 20 + 200 "
   ]
  },
  {
   "cell_type": "code",
   "execution_count": 30,
   "metadata": {},
   "outputs": [],
   "source": [
    "# 계산기 포로그램 작성\n",
    "# 입력 함수로 작성\n",
    "# 입력은 10 + 20 의 형식으로\n",
    "# 입력된 문자열을 분리해서 리스트로 변형한 후 숫자이면 int로 형 변환 \n",
    "# 각 부호별로 함수 정의 \n",
    "def input_func():\n",
    "    while True:\n",
    "        input_data = input(\"계산식 입력 : 10 + 20의 입력형식\").split()\n",
    "        if len(input_data) != 3:\n",
    "            continue\n",
    "        num_list = [int(data) for data in input_data if data.isdigit() ]\n",
    "        if input_data[1] in '+-*/':\n",
    "            return (num_list[0],input_data[1],num_list[1] )\n",
    "\n",
    "def plus_func(num1, num2):\n",
    "    return num1 + num2\n",
    "\n",
    "def minus_func(num1, num2):\n",
    "    return num1 - num2\n",
    "\n",
    "def gop_func(num1, num2):\n",
    "    return num1 * num2\n",
    "\n",
    "def nanugi_func(num1, num2):\n",
    "    return num1 / num2"
   ]
  },
  {
   "cell_type": "code",
   "execution_count": 32,
   "metadata": {},
   "outputs": [
    {
     "name": "stdout",
     "output_type": "stream",
     "text": [
      "계산식 입력 : 10 + 20의 입력형식10 + 20\n",
      "10 + 20 = 30\n"
     ]
    }
   ],
   "source": [
    "num1, buho, num2 = input_func()\n",
    "if buho == \"+\":\n",
    "    result = plus_func(num1,num2)\n",
    "elif buho == \"-\":\n",
    "    result = minus_func(num1,num2)\n",
    "elif buho == \"*\":\n",
    "    result = gop_func(num1,num2)\n",
    "elif buho == \"/\":\n",
    "    result = nanugi_func(num1,num2)\n",
    "print(\"{} {} {} = {}\".format(num1,buho,num2,result))"
   ]
  }
 ],
 "metadata": {
  "kernelspec": {
   "display_name": "Python 3",
   "language": "python",
   "name": "python3"
  },
  "language_info": {
   "codemirror_mode": {
    "name": "ipython",
    "version": 3
   },
   "file_extension": ".py",
   "mimetype": "text/x-python",
   "name": "python",
   "nbconvert_exporter": "python",
   "pygments_lexer": "ipython3",
   "version": "3.8.5"
  }
 },
 "nbformat": 4,
 "nbformat_minor": 4
}

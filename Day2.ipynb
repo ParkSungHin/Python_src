{
 "cells": [
  {
   "cell_type": "code",
   "execution_count": 4,
   "metadata": {},
   "outputs": [
    {
     "name": "stdout",
     "output_type": "stream",
     "text": [
      "문자 입력 > asdqwe\n",
      "입력받은 문자 : asdqwe, 소문자로 변경 : asdqwe, 대문자로 변경 : ASDQWE\n"
     ]
    }
   ],
   "source": [
    "\n",
    "\n",
    "\n",
    "#키보드에서 문자를 입력받아 출력하세요\n",
    "input_str = input(\"문자 입력 > \")\n",
    "print(\"입력받은 문자 : {}, 소문자로 변경 : {}, 대문자로 변경 : {}\".\\\n",
    "     format(input_str,input_str.lower(),input_str.upper()))"
   ]
  },
  {
   "cell_type": "code",
   "execution_count": 7,
   "metadata": {},
   "outputs": [
    {
     "name": "stdout",
     "output_type": "stream",
     "text": [
      "strip : /test 1234 abcd/, rstrip : /test 1234 abcd  /, lstrip : /  test 1234 abcd/\n"
     ]
    }
   ],
   "source": [
    "# 문자열의 함수 strip(),lstrip(),rstrip() --> 공백제거\n",
    "a_str = \"  test 1234 abcd  \"\n",
    "print(\"strip : /{}/, rstrip : /{}/, lstrip : /{}/\".\\\n",
    "     format(a_str.strip(), a_str.lstrip(), a_str.rstrip()))"
   ]
  },
  {
   "cell_type": "code",
   "execution_count": 13,
   "metadata": {},
   "outputs": [
    {
     "data": {
      "text/plain": [
       "True"
      ]
     },
     "execution_count": 13,
     "metadata": {},
     "output_type": "execute_result"
    }
   ],
   "source": [
    "a_str.strip()[ : 4].isalnum()"
   ]
  },
  {
   "cell_type": "code",
   "execution_count": 14,
   "metadata": {},
   "outputs": [
    {
     "data": {
      "text/plain": [
       "'test'"
      ]
     },
     "execution_count": 14,
     "metadata": {},
     "output_type": "execute_result"
    }
   ],
   "source": [
    "a_str.strip()[ : 4]"
   ]
  },
  {
   "cell_type": "code",
   "execution_count": 15,
   "metadata": {},
   "outputs": [
    {
     "name": "stdout",
     "output_type": "stream",
     "text": [
      "2\n"
     ]
    },
    {
     "data": {
      "text/plain": [
       "'test'"
      ]
     },
     "execution_count": 15,
     "metadata": {},
     "output_type": "execute_result"
    }
   ],
   "source": [
    "# fint(문자), rfind(문자) --? 처음 나오는 문자의 인덱스 반환\n",
    "print(a_str.find('te'))\n",
    "a_str[ a_str.find(\"t\") : a_str.rfind(\"t\") + 1 ]"
   ]
  },
  {
   "cell_type": "code",
   "execution_count": 16,
   "metadata": {},
   "outputs": [
    {
     "name": "stdout",
     "output_type": "stream",
     "text": [
      "True\n",
      "False\n"
     ]
    }
   ],
   "source": [
    "# 문자열과 in 연산자 : 믄자 in 문자열 --> 문자열의 문자가 존재하면 True \n",
    "print('test' in a_str)\n",
    "print('aa' in a_str)"
   ]
  },
  {
   "cell_type": "code",
   "execution_count": 18,
   "metadata": {},
   "outputs": [
    {
     "name": "stdout",
     "output_type": "stream",
     "text": [
      "/10 20 30 40 50/, /['10', '20', '30', '40', '50']/\n"
     ]
    },
    {
     "data": {
      "text/plain": [
       "['10', '20', '30', '40', '50']"
      ]
     },
     "execution_count": 18,
     "metadata": {},
     "output_type": "execute_result"
    }
   ],
   "source": [
    "# split(구분자) -> 구분자를 기준으로 문자 나누기, 구분자가 없으면 공백\n",
    "#리스트로 반환 [ , , ... ]\n",
    "a_str = \"10 20 30 40 50\"\n",
    "print(\"/{}/, /{}/\".format(a_str,a_str.split()))\n",
    "b_str = \"10,20,30,40,50, True\"\n",
    "b_str.split(',')"
   ]
  },
  {
   "cell_type": "code",
   "execution_count": 22,
   "metadata": {},
   "outputs": [
    {
     "data": {
      "text/plain": [
       "True"
      ]
     },
     "execution_count": 22,
     "metadata": {},
     "output_type": "execute_result"
    }
   ],
   "source": [
    "'10' in b_str.split(',')\n"
   ]
  },
  {
   "cell_type": "code",
   "execution_count": 29,
   "metadata": {},
   "outputs": [
    {
     "name": "stdout",
     "output_type": "stream",
     "text": [
      "<class 'list'>\n",
      "['30', '40']\n"
     ]
    },
    {
     "data": {
      "text/plain": [
       "['10', '20', '30', '40', '50']"
      ]
     },
     "execution_count": 29,
     "metadata": {},
     "output_type": "execute_result"
    }
   ],
   "source": [
    "print(type(b_str.split(',')[2:-1]))\n",
    "print(b_str.split(',')[2:-1])\n",
    "b_str.split(',')"
   ]
  },
  {
   "cell_type": "code",
   "execution_count": 30,
   "metadata": {},
   "outputs": [],
   "source": [
    "# 문자열 관련 함수는 문자열.함수명()\n",
    "# object명.함수명()\n",
    "# format(), upper(), lower(), \n",
    "# find(), rfind() --> 인덱스 반환\n",
    "# strip(), rstrip(), lstrip()\n",
    "# split(구분자) --> list 반환\n",
    "# 값 in 배열,  is00 --> Boolean 반환\n",
    "# 문자열[start : end ] --> start 포함, end는 미포함, -1:마지막 위치"
   ]
  },
  {
   "cell_type": "code",
   "execution_count": 31,
   "metadata": {},
   "outputs": [
    {
     "name": "stdout",
     "output_type": "stream",
     "text": [
      "True\n"
     ]
    }
   ],
   "source": [
    "# Boolean --> ==, > ,< , <= , >=, !=, and, or , not : Type or False 반환\n",
    "print(not 10 == 100)"
   ]
  },
  {
   "cell_type": "code",
   "execution_count": 33,
   "metadata": {},
   "outputs": [
    {
     "name": "stdout",
     "output_type": "stream",
     "text": [
      "True 1행\n",
      "True 2행\n",
      "end\n"
     ]
    }
   ],
   "source": [
    "# if 표현식: -> 표현식이 True면 처리문장 실행\n",
    "#    처리문장\n",
    "#    ...\n",
    "if 10 == 100:       # false > 실행문 실행 안됨\n",
    "    print(\"if 실행\")\n",
    "if True:\n",
    "    print(\"True 1행\")\n",
    "    print(\"True 2행\")\n",
    "print(\"end\") "
   ]
  },
  {
   "cell_type": "code",
   "execution_count": 42,
   "metadata": {},
   "outputs": [
    {
     "name": "stdout",
     "output_type": "stream",
     "text": [
      "숫자 입력 > 100\n",
      "입력한 숫자는 100.0 : 100보다 큼\n",
      "end\n"
     ]
    }
   ],
   "source": [
    "# 숫자를 키보드에서 입력받아 100보다 작으면 '100보다 작음' 출력\n",
    "# 숫자를 키보드에서 입력받아 100보다 크면 '100 이상' 출력\n",
    "\n",
    "#키보드에서 숫자 입력 및 형변환\n",
    "input_int = float(input(\"숫자 입력 > \"))\n",
    "# 입력 받은 슷자가 100보다 작은지 체크\n",
    "if input_int < 100:\n",
    "    print(\"입력한 숫자는 {} : 100보다 작음\".format(input_int))\n",
    "# 입력 받은 슷자가 100보다 크거나 같은지 체크\n",
    "else:\n",
    "    print(\"입력한 숫자는 {} : 100보다 큼\".format(input_int))\n",
    "print(\"end\")"
   ]
  },
  {
   "cell_type": "code",
   "execution_count": 43,
   "metadata": {},
   "outputs": [
    {
     "name": "stdout",
     "output_type": "stream",
     "text": [
      "2022년 4월 29일 11시 <built-in method time of datetime.datetime object at 0x0000017505BD3270>분 7초\n"
     ]
    }
   ],
   "source": [
    "#날짜 / 시간과 관련된 기능을 가져옵니다\n",
    "import datetime\n",
    "\n",
    "# 현재 날짜 / 시간을 구합니다\n",
    "now = datetime.datetime.now()\n",
    "\n",
    "# 출력합니다.\n",
    "print(\"{}년 {}월 {}일 {}시 {}분 {}초\".format(\n",
    "    now.year,\n",
    "    now.month,\n",
    "    now.day,\n",
    "    now.hour,\n",
    "    now.time,\n",
    "    now.second\n",
    "))"
   ]
  },
  {
   "cell_type": "code",
   "execution_count": 47,
   "metadata": {},
   "outputs": [
    {
     "name": "stdout",
     "output_type": "stream",
     "text": [
      "4월은 봄입니다\n",
      "12월은 겨울입니다\n"
     ]
    }
   ],
   "source": [
    "# 계절을 출력\n",
    "if now.month >= 3 and now.month <=5:\n",
    "    print(\"{}월은 봄입니다\".format(now.month))\n",
    "elif now.month >= 8:\n",
    "    print(\"{}월은 봄입니다\".format(now.month))    \n",
    "elif now.month >= 11:\n",
    "    print(\"{}월은 가을입니다\".format(now.month))\n",
    "else now.month == 1 or now.month == 2 or now.month == 12:\n",
    "    print(\"{}월은 겨울입니다\".format(now.month))\n",
    "a = 12\n",
    "if a in [1,2,12]:\n",
    "    print(\"{}월은 겨울입니다\".format(a))\n",
    "    "
   ]
  },
  {
   "cell_type": "code",
   "execution_count": 2,
   "metadata": {},
   "outputs": [
    {
     "name": "stdout",
     "output_type": "stream",
     "text": [
      "숫자 입력 > 22\n",
      "입력된 숫자 22는 짝수입니다\n"
     ]
    }
   ],
   "source": [
    "# 숫자를 입력받아 숫자가 짝수이면 '입력된 숫자 {}는 짝수입니다'\n",
    "# 숫자를 입력받아 숫자가 홀수이면 '입력된 숫자 {}는 홀수입니다'\n",
    "\n",
    "#숫자를 입력받음\n",
    "input_int = input(\"숫자 입력 > \")\n",
    "#숫자가 짝수인지 확인 -> 2로 나눈 후 나머지값으로 확인, 0이면 짝수\n",
    "if int(input_int) % 2 == 0:  \n",
    "    print(\"입력된 숫자 {}는 짝수입니다\".format(input_int)) \n",
    "    #마지막 글자가 --> 0, 2, 4, 6, 8 이면 짝수\n",
    "else:\n",
    "    print(\"입력된 숫자 {}는 홀수입니다\".format(input_int))\n",
    "    #마지막 글자가 --> 1, 3, 5, 7, 9 이면 홀수\n"
   ]
  },
  {
   "cell_type": "code",
   "execution_count": 3,
   "metadata": {},
   "outputs": [
    {
     "name": "stdout",
     "output_type": "stream",
     "text": [
      "입력된 숫자 22는 짝수\n"
     ]
    }
   ],
   "source": [
    "if input_int[-1] == '0' or input_int[-1] == '2' or\\\n",
    "    input_int[-1] == '4' or input_int[-1] == '6' or\\\n",
    "    input_int[-1] == '8':\n",
    "    print(\"입력된 숫자 {}는 짝수\".format(input_int))\n",
    "if input_int[-1] == '1' or input_int[-1] == '3' or\\\n",
    "    input_int[-1] == '5' or input_int[-1] == '7' or\\\n",
    "    input_int[-1] == '9':\n",
    "    print(\"입력된 숫자 {}는 홀수\".format(input_int))        \n",
    "        "
   ]
  },
  {
   "cell_type": "code",
   "execution_count": 5,
   "metadata": {},
   "outputs": [
    {
     "name": "stdout",
     "output_type": "stream",
     "text": [
      "입력된 숫자 22는 짝수입니다\n"
     ]
    }
   ],
   "source": [
    "if input_int[-1] in \"02468\":\n",
    "    print(\"입력된 숫자 {}는 짝수입니다\".format(input_int))\n",
    "if input_int[-1] in \"13579\":\n",
    "    print(\"입력된 숫자 {}는 홀수입니다\".format(input_int))"
   ]
  },
  {
   "cell_type": "code",
   "execution_count": 6,
   "metadata": {},
   "outputs": [
    {
     "name": "stdout",
     "output_type": "stream",
     "text": [
      "입력된 숫자 22는 짝수입니다\n"
     ]
    }
   ],
   "source": [
    "if input_int[-1] in \"02468\":\n",
    "    print(\"입력된 숫자 {}는 짝수입니다\".format(input_int))\n",
    "else:\n",
    "    print(\"입력된 숫자 {}는 홀수입니다\".format(input_int))"
   ]
  },
  {
   "cell_type": "code",
   "execution_count": 13,
   "metadata": {},
   "outputs": [
    {
     "name": "stdout",
     "output_type": "stream",
     "text": [
      "아무거나 입력: test\n",
      "t가 입력된 자료: test\n"
     ]
    }
   ],
   "source": [
    "# 문자를 입력받아 숫자인지 확인 후 \n",
    "# 숫자이면 int형으로 형변환 후 3의 배수인지 확인\n",
    "#문자이면 입력한 문자 중에 't' 문자가 있는지 확인\n",
    "\n",
    "ip = input(\"아무거나 입력: \")\n",
    "if not ip.isalpha():\n",
    "    if int(ip) % 3 == 0:\n",
    "        print(\"입력한 {}는 3의 배수\".format(ip))\n",
    "    else:\n",
    "        print(\"입력한 {}는 3의 배수가 아님!!\".format(ip))\n",
    "else:\n",
    "    if 't' in ip:\n",
    "        print(\"t가 입력된 자료: {}\".format(ip))\n",
    "    else :\n",
    "        print(\"t가 빠진 자료: {}\".format(ip))\n",
    "        \n",
    "        \n",
    "    "
   ]
  },
  {
   "cell_type": "code",
   "execution_count": 21,
   "metadata": {},
   "outputs": [
    {
     "name": "stdout",
     "output_type": "stream",
     "text": [
      "숫자 입력1: 22\n",
      "숫자 입력2: 33\n",
      "부호 입력(+,-,*,/): -\n",
      "22.0 - 33.0 는 -11.0\n"
     ]
    }
   ],
   "source": [
    "# 숫자 두개의 부호를 입력받아 계산하는 프로그램을 작성\n",
    "#1. 처음 숫자 입력\n",
    "ip1= float(input(\"숫자 입력1: \"))\n",
    "#2. 두 번째 숫자 입력\n",
    "ip2 = float(input(\"숫자 입력2: \"))\n",
    "#3. 부호 입력 (+,-,*,/)가 아니면 '부호에러' 출력\n",
    "mark = input(\"부호 입력(+,-,*,/): \")\n",
    "if  mark in '+-*/':\n",
    "    if mark == '+':\n",
    "        result = ip1 + ip2\n",
    "    if mark == '-':\n",
    "        result = ip1 - ip2\n",
    "    if mark == '*':\n",
    "        result = ip1 * ip2\n",
    "    if mark == '/':\n",
    "        result = ip1 / ip2  \n",
    "#4. 각 부호에 맞는 계산시 결과 출력\n",
    "    print(\"{} {} {} 는 {}\".format(ip1,mark,ip2,result))\n",
    "else:\n",
    "    print(\"부호 입력 오류\")"
   ]
  },
  {
   "cell_type": "code",
   "execution_count": 22,
   "metadata": {},
   "outputs": [
    {
     "name": "stdout",
     "output_type": "stream",
     "text": [
      "[23, 'test', 'abcd', 45, True, False]\n"
     ]
    }
   ],
   "source": [
    "#list ==> [자료1, 자료2, ...] 자료들의 자료\n",
    "a_list = [23,'test','abcd',45,True,False]\n",
    "print(a_list)"
   ]
  },
  {
   "cell_type": "code",
   "execution_count": 23,
   "metadata": {},
   "outputs": [
    {
     "name": "stdout",
     "output_type": "stream",
     "text": [
      "test\n",
      "ab\n",
      "['list_a', 'test', 'abcd', 45, True, False]\n"
     ]
    }
   ],
   "source": [
    "#test 문자열 추출\n",
    "print(a_list[1])\n",
    "print(a_list[2][:2]) #ab 추출\n",
    "a_list[0] = 'list_a'\n",
    "print(a_list)"
   ]
  },
  {
   "cell_type": "code",
   "execution_count": 25,
   "metadata": {},
   "outputs": [
    {
     "name": "stdout",
     "output_type": "stream",
     "text": [
      "[[1, 2, 3], [4, 5, 6], [7, 8, 9]]\n",
      "[4, 5, 6]\n",
      "7\n"
     ]
    }
   ],
   "source": [
    "#list안에 list 내포\n",
    "b_list = [[1,2,3],[4,5,6],[7,8,9]]\n",
    "print(b_list)\n",
    "print(b_list[1]) #[4,5,6]\n",
    "print(b_list[2][0]) #7"
   ]
  },
  {
   "cell_type": "code",
   "execution_count": 34,
   "metadata": {},
   "outputs": [
    {
     "name": "stdout",
     "output_type": "stream",
     "text": [
      "계산식 입력 : (10 + 20 의 형식) > 10 + 40\n",
      "['10', '+', '40']\n",
      "10 + 40 는 50\n"
     ]
    }
   ],
   "source": [
    "### 10 + 20 의 형식으로 입력을 받아 계산하는 프로그램을 작성\n",
    "input_data = input(\"계산식 입력 : (10 + 20 의 형식) > \").split()\n",
    "print(input_data)\n",
    "\n",
    "ip1 = int(input_data[0])\n",
    "ip2 = int(input_data[2])\n",
    "mark = input_data[1]\n",
    "if mark in \"+-*/\":\n",
    "    if mark == '+':\n",
    "        result = ip1 + ip2\n",
    "    if mark == '-':\n",
    "        result = ip1 - ip2\n",
    "    if mark == '*':\n",
    "        result = ip1 * ip2\n",
    "    if mark == '/':\n",
    "        result = ip1 / ip2  \n",
    "    print(\"{} {} {} 는 {}\".format(ip1,mark,ip2,result))\n",
    "else:\n",
    "    print(\"부호 입력 오류\")"
   ]
  },
  {
   "cell_type": "code",
   "execution_count": 36,
   "metadata": {},
   "outputs": [
    {
     "name": "stdout",
     "output_type": "stream",
     "text": [
      "aaa\n",
      "aaa\n",
      "aaa\n",
      "aaa\n",
      "aaa\n",
      "aaa\n",
      "aaa\n",
      "aaa\n",
      "aaa\n",
      "aaa\n",
      "aaa\n"
     ]
    }
   ],
   "source": [
    "a = 0\n",
    "while True:\n",
    "    print('aaa')\n",
    "    a += 1\n",
    "    if a > 10:\n",
    "        break;"
   ]
  },
  {
   "cell_type": "code",
   "execution_count": 45,
   "metadata": {},
   "outputs": [
    {
     "name": "stdout",
     "output_type": "stream",
     "text": [
      "계산식 입력 : (10 + 20 의 형식) > qwe + 30\n"
     ]
    },
    {
     "ename": "ValueError",
     "evalue": "invalid literal for int() with base 10: 'qwe'",
     "output_type": "error",
     "traceback": [
      "\u001b[1;31m---------------------------------------------------------------------------\u001b[0m",
      "\u001b[1;31mValueError\u001b[0m                                Traceback (most recent call last)",
      "\u001b[1;32m<ipython-input-45-7dfb519f95c3>\u001b[0m in \u001b[0;36m<module>\u001b[1;34m\u001b[0m\n\u001b[0;32m      6\u001b[0m         \u001b[0mprint\u001b[0m\u001b[1;33m(\u001b[0m\u001b[1;34m\"입력 오류 \\n계산기 종료\"\u001b[0m\u001b[1;33m)\u001b[0m\u001b[1;33m\u001b[0m\u001b[1;33m\u001b[0m\u001b[0m\n\u001b[0;32m      7\u001b[0m         \u001b[1;32mbreak\u001b[0m\u001b[1;33m\u001b[0m\u001b[1;33m\u001b[0m\u001b[0m\n\u001b[1;32m----> 8\u001b[1;33m     \u001b[0mip1\u001b[0m \u001b[1;33m=\u001b[0m \u001b[0mint\u001b[0m\u001b[1;33m(\u001b[0m\u001b[0minput_data\u001b[0m\u001b[1;33m[\u001b[0m\u001b[1;36m0\u001b[0m\u001b[1;33m]\u001b[0m\u001b[1;33m)\u001b[0m\u001b[1;33m\u001b[0m\u001b[1;33m\u001b[0m\u001b[0m\n\u001b[0m\u001b[0;32m      9\u001b[0m     \u001b[0mip2\u001b[0m \u001b[1;33m=\u001b[0m \u001b[0mint\u001b[0m\u001b[1;33m(\u001b[0m\u001b[0minput_data\u001b[0m\u001b[1;33m[\u001b[0m\u001b[1;36m2\u001b[0m\u001b[1;33m]\u001b[0m\u001b[1;33m)\u001b[0m\u001b[1;33m\u001b[0m\u001b[1;33m\u001b[0m\u001b[0m\n\u001b[0;32m     10\u001b[0m     \u001b[0mmark\u001b[0m \u001b[1;33m=\u001b[0m \u001b[0minput_data\u001b[0m\u001b[1;33m[\u001b[0m\u001b[1;36m1\u001b[0m\u001b[1;33m]\u001b[0m\u001b[1;33m\u001b[0m\u001b[1;33m\u001b[0m\u001b[0m\n",
      "\u001b[1;31mValueError\u001b[0m: invalid literal for int() with base 10: 'qwe'"
     ]
    }
   ],
   "source": [
    "# 처음 숫자에 'q'가 입력되면 계산기 종료\n",
    "while True:\n",
    "    input_data = input(\"계산식 입력 : (10 + 20 의 형식) > \").split()\n",
    "    if input_data[0] == 'q':\n",
    "        print(\"입력 오류 \\n계산기 종료\")\n",
    "        break\n",
    "    ip1 = int(input_data[0]) \n",
    "    ip2 = int(input_data[2])\n",
    "    mark = input_data[1]\n",
    "        \n",
    "    if mark in \"+-*/\":\n",
    "        if mark == '+':\n",
    "            result = ip1 + ip2\n",
    "        if mark == '-':\n",
    "            result = ip1 - ip2\n",
    "        if mark == '*':\n",
    "            result = ip1 * ip2\n",
    "        if mark == '/':\n",
    "            result = ip1 / ip2  \n",
    "        print(\"{} {} {} 는 {}\".format(ip1,mark,ip2,result))\n",
    "    else:\n",
    "        print(\"부호 입력 오류\")  "
   ]
  },
  {
   "cell_type": "code",
   "execution_count": 48,
   "metadata": {},
   "outputs": [
    {
     "name": "stdout",
     "output_type": "stream",
     "text": [
      "2 X 1 = 2\t2 X 2 = 4\t2 X 3 = 6\t2 X 4 = 8\t2 X 5 = 10\t2 X 6 = 12\t2 X 7 = 14\t2 X 8 = 16\t2 X 9 = 18\t\n",
      "3 X 1 = 3\t3 X 2 = 6\t3 X 3 = 9\t3 X 4 = 12\t3 X 5 = 15\t3 X 6 = 18\t3 X 7 = 21\t3 X 8 = 24\t3 X 9 = 27\t\n",
      "4 X 1 = 4\t4 X 2 = 8\t4 X 3 = 12\t4 X 4 = 16\t4 X 5 = 20\t4 X 6 = 24\t4 X 7 = 28\t4 X 8 = 32\t4 X 9 = 36\t\n",
      "5 X 1 = 5\t5 X 2 = 10\t5 X 3 = 15\t5 X 4 = 20\t5 X 5 = 25\t5 X 6 = 30\t5 X 7 = 35\t5 X 8 = 40\t5 X 9 = 45\t\n",
      "6 X 1 = 6\t6 X 2 = 12\t6 X 3 = 18\t6 X 4 = 24\t6 X 5 = 30\t6 X 6 = 36\t6 X 7 = 42\t6 X 8 = 48\t6 X 9 = 54\t\n",
      "7 X 1 = 7\t7 X 2 = 14\t7 X 3 = 21\t7 X 4 = 28\t7 X 5 = 35\t7 X 6 = 42\t7 X 7 = 49\t7 X 8 = 56\t7 X 9 = 63\t\n",
      "8 X 1 = 8\t8 X 2 = 16\t8 X 3 = 24\t8 X 4 = 32\t8 X 5 = 40\t8 X 6 = 48\t8 X 7 = 56\t8 X 8 = 64\t8 X 9 = 72\t\n",
      "9 X 1 = 9\t9 X 2 = 18\t9 X 3 = 27\t9 X 4 = 36\t9 X 5 = 45\t9 X 6 = 54\t9 X 7 = 63\t9 X 8 = 72\t9 X 9 = 81\t\n"
     ]
    }
   ],
   "source": [
    "num_1 = 2\n",
    "while num_1 < 10:\n",
    "    num_2 = 1\n",
    "    while num_2 < 10:\n",
    "        print(\"{} X {} = {}\".format(num_1,num_2,num_1*num_2),end='\\t')\n",
    "        num_2 +=1\n",
    "    print()\n",
    "    num_1 += 1"
   ]
  },
  {
   "cell_type": "code",
   "execution_count": 49,
   "metadata": {},
   "outputs": [],
   "source": [
    "# 두 수를 입력받아 두 수 사이의 합을 구하세요\n",
    "# 3 10 -> 3 +4 +5 + ... +10"
   ]
  },
  {
   "cell_type": "code",
   "execution_count": 51,
   "metadata": {},
   "outputs": [
    {
     "ename": "SyntaxError",
     "evalue": "invalid syntax (<ipython-input-51-c7b3d0f28f05>, line 4)",
     "output_type": "error",
     "traceback": [
      "\u001b[1;36m  File \u001b[1;32m\"<ipython-input-51-c7b3d0f28f05>\"\u001b[1;36m, line \u001b[1;32m4\u001b[0m\n\u001b[1;33m    if len{ip} !=2:\u001b[0m\n\u001b[1;37m          ^\u001b[0m\n\u001b[1;31mSyntaxError\u001b[0m\u001b[1;31m:\u001b[0m invalid syntax\n"
     ]
    }
   ],
   "source": [
    "while True:    \n",
    "    ip = int(input(\"두 수를 입력하시오: \")).split()\n",
    "    if ip[0] == \"q\":\n",
    "        break\n",
    "    \n",
    "    if len{ip} !=2:\n",
    "        print(\"두 수를 입력하세요\")\n",
    "        continue\n",
    "    if ip[0].isalpha or ip[1].isalpha:\n",
    "        print(\"두 수를 입력하세요\")\n",
    "        continue\n",
    "        \n",
    "    ip1 = ip[0]\n",
    "    ip2 = ip[1]\n",
    "\n",
    "    if ip1 > ip2:\n",
    "        ip1, ip2 = ip2, ip1\n",
    "    total = ip1\n",
    "    ch_ip = ip1\n",
    "    while ch_ip < ip2:\n",
    "        ch_ip += 1;\n",
    "        total += ch_ip\n",
    "    print(\"{}와 {} 사이의 합은 {}\".format(ip1,ip2,total))\n",
    "    \n",
    "        \n"
   ]
  },
  {
   "cell_type": "code",
   "execution_count": 78,
   "metadata": {},
   "outputs": [
    {
     "name": "stdout",
     "output_type": "stream",
     "text": [
      "[1, 2, 3, 4]\n",
      "[1, 'test', 2, 3, 4]\n",
      "[1, 'test', 2, 3, 4, [4, 5, 6]]\n",
      "[1, 'test', 2, 3, 4, [4, 5, 6], 7, 8, 9]\n",
      "[1, 'test', 2, 3, 4, [4, 5, 6], 7, 8, 9, 11, 22, 33]\n",
      "[1, 'test', 2, 3, 4, [4, 5, 6], 7, 8, 9]\n"
     ]
    }
   ],
   "source": [
    "# list 선언, 함수, ...\n",
    "# 리스트에 요소 추가하기 : append(), 리스트, insert(위치, 요소)\n",
    "a_list=  [1,2,3]\n",
    "a_list.append(4)\n",
    "print(a_list)\n",
    "\n",
    "a_list.insert(1,'test')   #(1, 'test', 2,1,4)\n",
    "print(a_list)\n",
    "\n",
    "# a_list에 리스트 요소 추가\n",
    "a_list.append([4,5,6]) # [1,'test',2,3,4,[4,5,6]]\n",
    "print(a_list)\n",
    "\n",
    "# extend(리스트) -> 리스트의 각 요소가 리스트의 요소로 추가\n",
    "a_list.extend([7,8,9])\n",
    "print(a_list)\n",
    "\n",
    "# 리스트 + 리스트 -> 기존 리스트 깂에 변화 없음\n",
    "print(a_list + [11,22,33])\n",
    "print(a_list)"
   ]
  },
  {
   "cell_type": "code",
   "execution_count": 79,
   "metadata": {},
   "outputs": [
    {
     "name": "stdout",
     "output_type": "stream",
     "text": [
      "[1, 2, 3, 4, [4, 5, 6], 7, 8, 9]\n",
      "[1, 3, 4, [4, 5, 6], 7, 8, 9]\n"
     ]
    }
   ],
   "source": [
    "#리스트에 요소 추가하기 : 리스트.append.insert(위치, 값)\n",
    "#리스트에 리스트의 각 요소를 리스트의 요소로 추가: 리스트.extend(리스트)\n",
    "# 리스트 요소삭제 : del 리스트명[인덱스], 리스트명.pop(인덱스)\n",
    "# 리스트의 값으로 삭제 :  리스트명.remove(값)\n",
    "#리스트의 모든 요소 제거: 리스트명.clean()\n",
    "\n",
    "# 인덱스 1인 'test' 자료 삭제 : del 명령어 사용\n",
    "del a_list[1]\n",
    "print(a_list)\n",
    "\n",
    "# [4, 5, 6] 리스트 자료 삭제\n",
    "a_list.pop(1) # 4 인덱스 자료 삭제 -> .pop()\n",
    "print(a_list)"
   ]
  },
  {
   "cell_type": "code",
   "execution_count": 80,
   "metadata": {},
   "outputs": [
    {
     "name": "stdout",
     "output_type": "stream",
     "text": [
      "[1, 4, 5]\n"
     ]
    }
   ],
   "source": [
    "b_list = [1,2,3,4,5]\n",
    "del b_list[1:3] # 2와 3 삭제\n",
    "print(b_list)"
   ]
  },
  {
   "cell_type": "code",
   "execution_count": 81,
   "metadata": {},
   "outputs": [
    {
     "name": "stdout",
     "output_type": "stream",
     "text": [
      "[1, 4]\n"
     ]
    }
   ],
   "source": [
    "b_list.remove(5) # 값으로 삭제\n",
    "print(b_list)"
   ]
  },
  {
   "cell_type": "code",
   "execution_count": 82,
   "metadata": {},
   "outputs": [
    {
     "name": "stdout",
     "output_type": "stream",
     "text": [
      "[]\n"
     ]
    }
   ],
   "source": [
    "#리스트의 모든 요소 제거 : 리스트명.clean()\n",
    "b_list.clear()\n",
    "print(b_list)"
   ]
  },
  {
   "cell_type": "code",
   "execution_count": 83,
   "metadata": {},
   "outputs": [
    {
     "name": "stdout",
     "output_type": "stream",
     "text": [
      "True\n",
      "False\n"
     ]
    }
   ],
   "source": [
    "print(7 in a_list)\n",
    "print(7 not in a_list)# 값 in 반복자료 => True, False, not in"
   ]
  },
  {
   "cell_type": "code",
   "execution_count": 84,
   "metadata": {},
   "outputs": [
    {
     "name": "stdout",
     "output_type": "stream",
     "text": [
      "출력 0\n",
      "출력 1\n",
      "출력 2\n",
      "출력 3\n",
      "출력 4\n",
      "\n",
      "출력 1\n",
      "출력 2\n",
      "출력 3\n",
      "출력 4\n"
     ]
    }
   ],
   "source": [
    "# for 반복자 in 반복 자료:\n",
    "#       처리\n",
    "for i in range(5): #range[start(0) , end , skip ]\n",
    "    print(\"출력\",i)\n",
    "print()\n",
    "for i in range(1,5):\n",
    "    print('출력',i)"
   ]
  },
  {
   "cell_type": "code",
   "execution_count": 85,
   "metadata": {},
   "outputs": [
    {
     "name": "stdout",
     "output_type": "stream",
     "text": [
      "1\n",
      "3\n",
      "4\n",
      "[4, 5, 6]\n",
      "7\n",
      "8\n",
      "9\n",
      "\n",
      "- h- e- l- l- o-  - w- o- r- l- d- !\n"
     ]
    }
   ],
   "source": [
    "for i in a_list:\n",
    "    print(i)\n",
    "print()\n",
    "for char in 'hello world!':\n",
    "    print(\"-\",char,end=\"\")\n",
    "print()"
   ]
  },
  {
   "cell_type": "code",
   "execution_count": 102,
   "metadata": {},
   "outputs": [
    {
     "name": "stdout",
     "output_type": "stream",
     "text": [
      "두 수를 입력하시오: 10 20\n",
      "10와 20 사이의 합은 165\n",
      "두 수를 입력하시오: 20 30\n",
      "20와 30 사이의 합은 275\n",
      "두 수를 입력하시오: q\n"
     ]
    }
   ],
   "source": [
    "while True:    \n",
    "    ip = input(\"두 수를 입력하시오: \").split()\n",
    "    if ip[0] == \"q\":\n",
    "        break\n",
    "    \n",
    "    if len(ip) !=2:\n",
    "        print(\"두 수를 입력하세요\")\n",
    "        continue\n",
    "    if ip[0].isalpha() or ip[1].isalpha():\n",
    "        print(\"두 수를 입력하세요\")\n",
    "        continue\n",
    "        \n",
    "    ip1 = int(ip[0])\n",
    "    ip2 = int(ip[1])\n",
    "    total = 0\n",
    "    \n",
    "    if ip1 < ip2:\n",
    "        for i in range(ip1,ip2+1):\n",
    "            total += i\n",
    "    else:\n",
    "        for i in range(ip2,ip1+1):\n",
    "    #while ch_ip < ip2:\n",
    "            total += i\n",
    "    print(\"{}와 {} 사이의 합은 {}\".format(ip1,ip2,total))"
   ]
  },
  {
   "cell_type": "code",
   "execution_count": 97,
   "metadata": {},
   "outputs": [
    {
     "name": "stdout",
     "output_type": "stream",
     "text": [
      "[273, 46, 1, 4, 88]\n",
      "[273, 46, 1, 4, 88]\n",
      "[273, 46, 1, 4, 88]\n",
      "[273, 46, 1, 4, 88]\n",
      "[273, 46, 1, 4, 88]\n",
      "273\t46\t1\t4\t88\t\n"
     ]
    }
   ],
   "source": [
    "# list의 요소 가져오기\n",
    "a_list = [273,46,1,4,88]\n",
    "for i in a_list:\n",
    "    print(a_list) #273,46,1\n",
    "    \n",
    "# range()함수와 인덱스를 이용하여 자료 가져오기\n",
    "for i in range(len(a_list)):\n",
    "    print(a_list[i],end='\\t')\n",
    "print()"
   ]
  },
  {
   "cell_type": "code",
   "execution_count": null,
   "metadata": {},
   "outputs": [],
   "source": [
    "#숫자를 입력받아 리스트에 저장 : 'q'가 입력되면 입력 종료\n",
    "#입력된 숫자의 총합과 총 곱을 출력\n",
    "#입력된 숫자의 갯수와 입력된 숫자의 평균을 출력 : 평균은 소수점 미만 2자리로`"
   ]
  },
  {
   "cell_type": "code",
   "execution_count": 12,
   "metadata": {},
   "outputs": [
    {
     "name": "stdout",
     "output_type": "stream",
     "text": [
      "원하는 만큼 숫자 입력: 11 22 33\n",
      "숫자의 총합 :  66\n",
      "숫자의 총 곱 :  7986\n"
     ]
    }
   ],
   "source": [
    "input_num = input(\"원하는 만큼 숫자 입력: \").split()\n",
    "\n",
    "#if input_num == 'q':\n",
    "#   break\n",
    "input_sum = 0\n",
    "input_gop = 1\n",
    "for i in range(len(input_num)):\n",
    "    input_num[i]\n",
    "    if input_num[i] == 'q':\n",
    "        print(\"입력 종료\")\n",
    "        break   \n",
    "    input_sum += int(input_num[i]) \n",
    "    input_gop *= int(input_num[i])\n",
    "print(\"숫자의 총합 :  {}\".format(input_sum))\n",
    "print(\"숫자의 총 곱 :  {}\".format(input_gop))  "
   ]
  },
  {
   "cell_type": "code",
   "execution_count": 103,
   "metadata": {},
   "outputs": [
    {
     "name": "stdout",
     "output_type": "stream",
     "text": [
      "처음 []\n",
      "1을 추가함 [1]\n",
      "2를 추가함 [1, 2]\n"
     ]
    }
   ],
   "source": [
    "a_list = []\n",
    "print(\"처음\",a_list)\n",
    "a_list.append(1)\n",
    "print(\"1을 추가함\", a_list)\n",
    "a_list.append(2)\n",
    "print(\"2를 추가함\",a_list)"
   ]
  },
  {
   "cell_type": "code",
   "execution_count": null,
   "metadata": {},
   "outputs": [],
   "source": []
  }
 ],
 "metadata": {
  "kernelspec": {
   "display_name": "Python 3",
   "language": "python",
   "name": "python3"
  },
  "language_info": {
   "codemirror_mode": {
    "name": "ipython",
    "version": 3
   },
   "file_extension": ".py",
   "mimetype": "text/x-python",
   "name": "python",
   "nbconvert_exporter": "python",
   "pygments_lexer": "ipython3",
   "version": "3.8.5"
  }
 },
 "nbformat": 4,
 "nbformat_minor": 4
}

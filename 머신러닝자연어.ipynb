{
  "nbformat": 4,
  "nbformat_minor": 0,
  "metadata": {
    "colab": {
      "name": "머신러닝자연어.ipynb",
      "provenance": [],
      "collapsed_sections": [],
      "authorship_tag": "ABX9TyNzXgted+L7U3kxR2KvsG2+",
      "include_colab_link": true
    },
    "kernelspec": {
      "name": "python3",
      "display_name": "Python 3"
    },
    "language_info": {
      "name": "python"
    }
  },
  "cells": [
    {
      "cell_type": "markdown",
      "metadata": {
        "id": "view-in-github",
        "colab_type": "text"
      },
      "source": [
        "<a href=\"https://colab.research.google.com/github/ParkSungHin/Python_src/blob/main/%EB%A8%B8%EC%8B%A0%EB%9F%AC%EB%8B%9D%EC%9E%90%EC%97%B0%EC%96%B4.ipynb\" target=\"_parent\"><img src=\"https://colab.research.google.com/assets/colab-badge.svg\" alt=\"Open In Colab\"/></a>"
      ]
    },
    {
      "cell_type": "markdown",
      "source": [
        "### 1.케라스로 해보는 선형회귀"
      ],
      "metadata": {
        "id": "ID5jE0FQpNsv"
      }
    },
    {
      "cell_type": "code",
      "source": [
        "import numpy as np\n",
        "import matplotlib.pyplot as plt\n",
        "from tensorflow.keras.models import Sequential\n",
        "from tensorflow.keras.layers import Dense\n",
        "from tensorflow.keras import optimizers"
      ],
      "metadata": {
        "id": "rYcf_CwLpafJ"
      },
      "execution_count": null,
      "outputs": []
    },
    {
      "cell_type": "code",
      "execution_count": null,
      "metadata": {
        "id": "lvzuA04NmMB9"
      },
      "outputs": [],
      "source": [
        "x = [1, 2, 3, 4, 5, 6, 7, 8, 9] # 공부하는 시간\n",
        "y = [11, 22, 33, 44, 53, 66, 77, 87, 95]   # 시간에 따른 성적\n",
        "\n",
        "model = Sequential() # 모델 생성\n",
        "model.add(Dense(1,input_dim = 1,activation='linear')) # input 차원 : 1, output 차원 ; 1\n",
        "\n",
        "# 경사하강법 , 학습률 : 0.01\n",
        "sgd = optimizers.SGD(lr=0.01)\n",
        "\n",
        "# 손실함수 : 평균제곱오차 MSE\n",
        "model.compile(optimizer=sgd,loss='mse',metrics=['mse'])\n",
        "\n",
        "# 작업회수 : 300\n",
        "model.fit(x,y, epochs=300)"
      ]
    },
    {
      "cell_type": "code",
      "source": [
        "plt.plot(x, model.predict(x),'b',x,y,'k.')"
      ],
      "metadata": {
        "colab": {
          "base_uri": "https://localhost:8080/",
          "height": 303
        },
        "id": "WFLQ955OppQm",
        "outputId": "e7e31873-3b57-4f8d-cbab-c8358f6e85d4"
      },
      "execution_count": null,
      "outputs": [
        {
          "output_type": "execute_result",
          "data": {
            "text/plain": [
              "[<matplotlib.lines.Line2D at 0x7f203348c4d0>,\n",
              " <matplotlib.lines.Line2D at 0x7f203348c1d0>]"
            ]
          },
          "metadata": {},
          "execution_count": 14
        },
        {
          "output_type": "display_data",
          "data": {
            "text/plain": [
              "<Figure size 432x288 with 1 Axes>"
            ],
            "image/png": "[encoded data removed]"
          },
          "metadata": {
            "needs_background": "light"
          }
        }
      ]
    },
    {
      "cell_type": "code",
      "source": [
        "print(model.predict([9.3]))"
      ],
      "metadata": {
        "colab": {
          "base_uri": "https://localhost:8080/"
        },
        "id": "aEzhKxcZzmGs",
        "outputId": "313149d1-0d4a-4dbb-85f4-9b1029fc1db2"
      },
      "execution_count": null,
      "outputs": [
        {
          "output_type": "stream",
          "name": "stdout",
          "text": [
            "[[100.07276]]\n"
          ]
        }
      ]
    },
    {
      "cell_type": "markdown",
      "source": [
        "## 2. 로지스틱 회귀(Logistic Regression)"
      ],
      "metadata": {
        "id": "CUS_YVct1bpW"
      }
    },
    {
      "cell_type": "markdown",
      "source": [
        "2-1. 이진 분류 <br/>\n",
        "시험 점수가 합격인지 불합격인지,<br/>\n",
        " 혹은 어떤 메일을 받았을 때 정상 메일인지 스팸 메일인지를 분류하는 문제"
      ],
      "metadata": {
        "id": "TmdOtrvh13ZR"
      }
    },
    {
      "cell_type": "markdown",
      "source": [
        "<img src=\"https://drive.google.com/uc?id=19RwRKb7QFFkVI1rmBv-YC9SoWTdd8lTK\">\n",
        "<img src=\"https://drive.google.com/uc?id=1Mw4hrXn3vT4nUrBYEWYo6p-12dsY_24c\" width=430 height=300>\n"
      ],
      "metadata": {
        "id": "QXRdStoL3o7t"
      }
    },
    {
      "cell_type": "markdown",
      "source": [
        "### 2-2. 시그모이드 함수(Sigmoid function)"
      ],
      "metadata": {
        "id": "btN9ECiQ2hsW"
      }
    },
    {
      "cell_type": "markdown",
      "source": [
        "<img src=\"https://drive.google.com/uc?id=1K7zutDOkbNfwsBwc0tsOPc8AKbXcR6QL\">\n"
      ],
      "metadata": {
        "id": "YEtm-kig5_YG"
      }
    },
    {
      "cell_type": "code",
      "source": [
        "import numpy as np\n",
        "import matplotlib.pyplot as plt\n",
        "\n",
        "def sigmoid(x):\n",
        "  return 1/(1+np.exp(-x))\n",
        "\n",
        "x = np.arange(-5.0,5.0,0.1)\n",
        "y = sigmoid(x)\n",
        "\n",
        "plt.plot(x,y,'g')\n",
        "plt.plot([0,0],[1.0,0.0],':') # 가운데 점선\n",
        "plt.title('Sigmoid Function')\n",
        "plt.show()\n"
      ],
      "metadata": {
        "colab": {
          "base_uri": "https://localhost:8080/",
          "height": 281
        },
        "id": "eO-InAtezrMa",
        "outputId": "971a3720-acd2-48ed-decb-82872f3593bb"
      },
      "execution_count": null,
      "outputs": [
        {
          "output_type": "display_data",
          "data": {
            "text/plain": [
              "<Figure size 432x288 with 1 Axes>"
            ],
            "image/png": "[encoded data removed]"
          },
          "metadata": {
            "needs_background": "light"
          }
        }
      ]
    },
    {
      "cell_type": "code",
      "source": [
        "# 가중치 w의 대한 변화\n",
        "\n",
        "x = np.arange(-5.0, 5.0, 0.1)\n",
        "y1 = sigmoid(0.5*x) \n",
        "y2 = sigmoid(x)\n",
        "y3 = sigmoid(2*x)\n",
        "\n",
        "plt.plot(x,y1,'r',linestyle=\"--\") # w = 0.5\n",
        "plt.plot(x,y2,'g')  # w = 1\n",
        "plt.plot(x,y3,'b',linestyle='--') # w = 2\n",
        "plt.plot([0,0],[1.0,0.0], ':') # 가운데 점선\n",
        "plt.title('Sigmoid Function')\n",
        "plt.show()"
      ],
      "metadata": {
        "colab": {
          "base_uri": "https://localhost:8080/",
          "height": 281
        },
        "id": "mGywy4s-8UHU",
        "outputId": "ec059425-1a67-4148-ba78-3a3b4b065333"
      },
      "execution_count": null,
      "outputs": [
        {
          "output_type": "display_data",
          "data": {
            "text/plain": [
              "<Figure size 432x288 with 1 Axes>"
            ],
            "image/png": "[encoded data removed]"
          },
          "metadata": {
            "needs_background": "light"
          }
        }
      ]
    },
    {
      "cell_type": "code",
      "source": [
        "# 편향 b의 대한 변화\n",
        "\n",
        "x = np.arange(-5.0, 5.0, 0.1)\n",
        "y1 = sigmoid(x + 0.5) \n",
        "y2 = sigmoid(x)\n",
        "y3 = sigmoid(x + 1.5)\n",
        "\n",
        "plt.plot(x, y1, 'r', linestyle='--') # x + 0.5\n",
        "plt.plot(x, y2, 'g') # x + 1\n",
        "plt.plot(x, y3, 'b', linestyle='--') # x + 1.5\n",
        "plt.plot([0,0],[1.0,0.0], ':') # 가운데 점선 \n",
        "plt.title('Sigmoid Function')\n",
        "plt.show()"
      ],
      "metadata": {
        "colab": {
          "base_uri": "https://localhost:8080/",
          "height": 281
        },
        "id": "2jIkYV3p9wIp",
        "outputId": "3d805f54-0bde-407b-afb7-b6d69eb72238"
      },
      "execution_count": null,
      "outputs": [
        {
          "output_type": "display_data",
          "data": {
            "text/plain": [
              "<Figure size 432x288 with 1 Axes>"
            ],
            "image/png": "[encoded data removed]"
          },
          "metadata": {
            "needs_background": "light"
          }
        }
      ]
    },
    {
      "cell_type": "markdown",
      "source": [
        "### 2-3. 비용 함수(Cost Function)"
      ],
      "metadata": {
        "id": "poMMHYXWGiOP"
      }
    },
    {
      "cell_type": "markdown",
      "source": [
        "로지스틱 회귀에선 비용함수로 MSE(평균제곱오차)가 아닌<br/>\n",
        " 목적 함수(objective function) 사용"
      ],
      "metadata": {
        "id": "WwgSJ7-qHMhc"
      }
    },
    {
      "cell_type": "markdown",
      "source": [
        "<img src=\"https://drive.google.com/uc?id=1XeCW6bvteoVAzVF38uM_DOQGSWMYEL1y\">\n"
      ],
      "metadata": {
        "id": "hf-0IFWFHiFK"
      }
    },
    {
      "cell_type": "markdown",
      "source": [
        "<img src=\"https://drive.google.com/uc?id=1g3F9W7JfaZe5gQWUE_psTe5931mOEIxB\"> <br/>\n",
        "<img src=\"https://drive.google.com/uc?id=1UFHiYIAMjeJbkkfsxQMeUyYvnAxoBDd-\">\n"
      ],
      "metadata": {
        "id": "owf8eOvF9z0K"
      }
    },
    {
      "cell_type": "markdown",
      "source": [
        "로지스틱 회귀는 0~1 사이 값을 반환한다.<br/>\n",
        "위에 파란 그래프 처럼 실제값 y가 1일 때  예측값 H(x)이 0에 가까울수록  오차가 커지고 <br/>\n",
        "빨간 그래프처럼 실제값 y가 0일 때 예측값 H(x)가 1에 에 가까울수록 오차가 커진다.\n",
        "그에 대한 목적함수를 정리하면 위에 수식과 같다."
      ],
      "metadata": {
        "id": "Ku_F3_TO-npn"
      }
    },
    {
      "cell_type": "markdown",
      "source": [
        "로지스틱 회귀에서 찾아낸 위에 비용함수를 크로스 엔트로피(Cross Entropy) 함수라 한다."
      ],
      "metadata": {
        "id": "jKFKxCKKweyF"
      }
    },
    {
      "cell_type": "markdown",
      "source": [
        "즉, 로지스틱 회귀에서 비용함수로 평균제곱오차(MSE)가 아닌\n",
        "<br/>크로스 엔트로피(Cross Entropy)를 사용하여 \n",
        "<br/>비용이 최소가 되는 가중치를 찾아야 한다."
      ],
      "metadata": {
        "id": "C07Keg_eAuPl"
      }
    },
    {
      "cell_type": "markdown",
      "source": [
        "##3. 로지스틱 회귀 실습"
      ],
      "metadata": {
        "id": "UIoobjVfA7gy"
      }
    },
    {
      "cell_type": "markdown",
      "source": [
        "### 3-1. 케라스로 구현하는 로지스틱 회귀"
      ],
      "metadata": {
        "id": "VluzDy8EBB3P"
      }
    },
    {
      "cell_type": "code",
      "source": [
        "import numpy as np\n",
        "import matplotlib.pyplot as plt\n",
        "from tensorflow.keras.models import Sequential\n",
        "from tensorflow.keras.layers import Dense\n",
        "from tensorflow.keras import optimizers\n",
        "\n",
        "x = np.array([-50, -40, -30, -20, -10, -5, 0, 5, 10, 20, 30, 40, 50])\n",
        "y = np.array([0, 0, 0, 0, 0, 0, 0, 0, 1, 1, 1, 1, 1]) # 숫자 10부터 1\n",
        "\n",
        "model = Sequential()\n",
        "model.add(Dense(1, input_dim=1, activation='sigmoid'))\n",
        "\n",
        "sgd = optimizers.SGD(lr=0.01)\n",
        "model.compile(optimizer=sgd, loss='binary_crossentropy', metrics=['binary_accuracy'])\n",
        "\n",
        "model.fit(x, y, epochs=200)"
      ],
      "metadata": {
        "colab": {
          "base_uri": "https://localhost:8080/"
        },
        "id": "GCPo2qaB-ZaK",
        "outputId": "03eaf348-ddb1-4202-e578-d329030678a8"
      },
      "execution_count": null,
      "outputs": [
        {
          "output_type": "stream",
          "name": "stdout",
          "text": [
            "Epoch 1/200\n"
          ]
        },
        {
          "output_type": "stream",
          "name": "stderr",
          "text": [
            "/usr/local/lib/python3.7/dist-packages/keras/optimizer_v2/gradient_descent.py:102: UserWarning: The `lr` argument is deprecated, use `learning_rate` instead.\n",
            "  super(SGD, self).__init__(name, **kwargs)\n"
          ]
        },
        {
          "output_type": "stream",
          "name": "stdout",
          "text": [
            "1/1 [==============================] - 0s 351ms/step - loss: 13.8758 - binary_accuracy: 0.1538\n",
            "Epoch 2/200\n",
            "1/1 [==============================] - 0s 11ms/step - loss: 8.4016 - binary_accuracy: 0.1538\n",
            "Epoch 3/200\n",
            "1/1 [==============================] - 0s 9ms/step - loss: 3.0306 - binary_accuracy: 0.1538\n",
            "Epoch 4/200\n",
            "1/1 [==============================] - 0s 9ms/step - loss: 0.2407 - binary_accuracy: 0.9231\n",
            "Epoch 5/200\n",
            "1/1 [==============================] - 0s 11ms/step - loss: 0.2314 - binary_accuracy: 0.9231\n",
            "Epoch 6/200\n",
            "1/1 [==============================] - 0s 7ms/step - loss: 0.2253 - binary_accuracy: 0.9231\n",
            "Epoch 7/200\n",
            "1/1 [==============================] - 0s 6ms/step - loss: 0.2208 - binary_accuracy: 0.9231\n",
            "Epoch 8/200\n",
            "1/1 [==============================] - 0s 5ms/step - loss: 0.2174 - binary_accuracy: 0.9231\n",
            "Epoch 9/200\n",
            "1/1 [==============================] - 0s 6ms/step - loss: 0.2148 - binary_accuracy: 0.9231\n",
            "Epoch 10/200\n",
            "1/1 [==============================] - 0s 6ms/step - loss: 0.2126 - binary_accuracy: 0.9231\n",
            "Epoch 11/200\n",
            "1/1 [==============================] - 0s 6ms/step - loss: 0.2108 - binary_accuracy: 0.9231\n",
            "Epoch 12/200\n",
            "1/1 [==============================] - 0s 6ms/step - loss: 0.2093 - binary_accuracy: 0.9231\n",
            "Epoch 13/200\n",
            "1/1 [==============================] - 0s 5ms/step - loss: 0.2080 - binary_accuracy: 0.9231\n",
            "Epoch 14/200\n",
            "1/1 [==============================] - 0s 5ms/step - loss: 0.2068 - binary_accuracy: 0.9231\n",
            "Epoch 15/200\n",
            "1/1 [==============================] - 0s 6ms/step - loss: 0.2059 - binary_accuracy: 0.9231\n",
            "Epoch 16/200\n",
            "1/1 [==============================] - 0s 6ms/step - loss: 0.2050 - binary_accuracy: 0.9231\n",
            "Epoch 17/200\n",
            "1/1 [==============================] - 0s 6ms/step - loss: 0.2042 - binary_accuracy: 0.9231\n",
            "Epoch 18/200\n",
            "1/1 [==============================] - 0s 10ms/step - loss: 0.2035 - binary_accuracy: 0.9231\n",
            "Epoch 19/200\n",
            "1/1 [==============================] - 0s 8ms/step - loss: 0.2029 - binary_accuracy: 0.9231\n",
            "Epoch 20/200\n",
            "1/1 [==============================] - 0s 6ms/step - loss: 0.2023 - binary_accuracy: 0.9231\n",
            "Epoch 21/200\n",
            "1/1 [==============================] - 0s 6ms/step - loss: 0.2018 - binary_accuracy: 0.9231\n",
            "Epoch 22/200\n",
            "1/1 [==============================] - 0s 12ms/step - loss: 0.2013 - binary_accuracy: 0.9231\n",
            "Epoch 23/200\n",
            "1/1 [==============================] - 0s 9ms/step - loss: 0.2009 - binary_accuracy: 0.9231\n",
            "Epoch 24/200\n",
            "1/1 [==============================] - 0s 10ms/step - loss: 0.2005 - binary_accuracy: 0.9231\n",
            "Epoch 25/200\n",
            "1/1 [==============================] - 0s 8ms/step - loss: 0.2001 - binary_accuracy: 0.9231\n",
            "Epoch 26/200\n",
            "1/1 [==============================] - 0s 9ms/step - loss: 0.1997 - binary_accuracy: 0.9231\n",
            "Epoch 27/200\n",
            "1/1 [==============================] - 0s 8ms/step - loss: 0.1994 - binary_accuracy: 0.9231\n",
            "Epoch 28/200\n",
            "1/1 [==============================] - 0s 7ms/step - loss: 0.1991 - binary_accuracy: 0.9231\n",
            "Epoch 29/200\n",
            "1/1 [==============================] - 0s 17ms/step - loss: 0.1988 - binary_accuracy: 0.9231\n",
            "Epoch 30/200\n",
            "1/1 [==============================] - 0s 11ms/step - loss: 0.1985 - binary_accuracy: 0.9231\n",
            "Epoch 31/200\n",
            "1/1 [==============================] - 0s 9ms/step - loss: 0.1982 - binary_accuracy: 0.9231\n",
            "Epoch 32/200\n",
            "1/1 [==============================] - 0s 9ms/step - loss: 0.1979 - binary_accuracy: 0.9231\n",
            "Epoch 33/200\n",
            "1/1 [==============================] - 0s 10ms/step - loss: 0.1977 - binary_accuracy: 0.9231\n",
            "Epoch 34/200\n",
            "1/1 [==============================] - 0s 10ms/step - loss: 0.1975 - binary_accuracy: 0.9231\n",
            "Epoch 35/200\n",
            "1/1 [==============================] - 0s 9ms/step - loss: 0.1972 - binary_accuracy: 0.9231\n",
            "Epoch 36/200\n",
            "1/1 [==============================] - 0s 8ms/step - loss: 0.1970 - binary_accuracy: 0.9231\n",
            "Epoch 37/200\n",
            "1/1 [==============================] - 0s 9ms/step - loss: 0.1968 - binary_accuracy: 0.9231\n",
            "Epoch 38/200\n",
            "1/1 [==============================] - 0s 8ms/step - loss: 0.1966 - binary_accuracy: 0.9231\n",
            "Epoch 39/200\n",
            "1/1 [==============================] - 0s 8ms/step - loss: 0.1964 - binary_accuracy: 0.9231\n",
            "Epoch 40/200\n",
            "1/1 [==============================] - 0s 8ms/step - loss: 0.1962 - binary_accuracy: 0.9231\n",
            "Epoch 41/200\n",
            "1/1 [==============================] - 0s 9ms/step - loss: 0.1960 - binary_accuracy: 0.9231\n",
            "Epoch 42/200\n",
            "1/1 [==============================] - 0s 9ms/step - loss: 0.1958 - binary_accuracy: 0.9231\n",
            "Epoch 43/200\n",
            "1/1 [==============================] - 0s 9ms/step - loss: 0.1957 - binary_accuracy: 0.9231\n",
            "Epoch 44/200\n",
            "1/1 [==============================] - 0s 9ms/step - loss: 0.1955 - binary_accuracy: 0.9231\n",
            "Epoch 45/200\n",
            "1/1 [==============================] - 0s 7ms/step - loss: 0.1953 - binary_accuracy: 0.9231\n",
            "Epoch 46/200\n",
            "1/1 [==============================] - 0s 8ms/step - loss: 0.1952 - binary_accuracy: 0.9231\n",
            "Epoch 47/200\n",
            "1/1 [==============================] - 0s 7ms/step - loss: 0.1950 - binary_accuracy: 0.9231\n",
            "Epoch 48/200\n",
            "1/1 [==============================] - 0s 8ms/step - loss: 0.1948 - binary_accuracy: 0.9231\n",
            "Epoch 49/200\n",
            "1/1 [==============================] - 0s 10ms/step - loss: 0.1947 - binary_accuracy: 0.9231\n",
            "Epoch 50/200\n",
            "1/1 [==============================] - 0s 22ms/step - loss: 0.1945 - binary_accuracy: 0.9231\n",
            "Epoch 51/200\n",
            "1/1 [==============================] - 0s 12ms/step - loss: 0.1944 - binary_accuracy: 0.9231\n",
            "Epoch 52/200\n",
            "1/1 [==============================] - 0s 10ms/step - loss: 0.1942 - binary_accuracy: 0.9231\n",
            "Epoch 53/200\n",
            "1/1 [==============================] - 0s 11ms/step - loss: 0.1941 - binary_accuracy: 0.9231\n",
            "Epoch 54/200\n",
            "1/1 [==============================] - 0s 10ms/step - loss: 0.1939 - binary_accuracy: 0.9231\n",
            "Epoch 55/200\n",
            "1/1 [==============================] - 0s 9ms/step - loss: 0.1938 - binary_accuracy: 0.9231\n",
            "Epoch 56/200\n",
            "1/1 [==============================] - 0s 9ms/step - loss: 0.1936 - binary_accuracy: 0.9231\n",
            "Epoch 57/200\n",
            "1/1 [==============================] - 0s 7ms/step - loss: 0.1935 - binary_accuracy: 0.9231\n",
            "Epoch 58/200\n",
            "1/1 [==============================] - 0s 12ms/step - loss: 0.1934 - binary_accuracy: 0.9231\n",
            "Epoch 59/200\n",
            "1/1 [==============================] - 0s 7ms/step - loss: 0.1932 - binary_accuracy: 0.9231\n",
            "Epoch 60/200\n",
            "1/1 [==============================] - 0s 7ms/step - loss: 0.1931 - binary_accuracy: 0.9231\n",
            "Epoch 61/200\n",
            "1/1 [==============================] - 0s 7ms/step - loss: 0.1929 - binary_accuracy: 0.9231\n",
            "Epoch 62/200\n",
            "1/1 [==============================] - 0s 13ms/step - loss: 0.1928 - binary_accuracy: 0.9231\n",
            "Epoch 63/200\n",
            "1/1 [==============================] - 0s 12ms/step - loss: 0.1927 - binary_accuracy: 0.9231\n",
            "Epoch 64/200\n",
            "1/1 [==============================] - 0s 10ms/step - loss: 0.1925 - binary_accuracy: 0.9231\n",
            "Epoch 65/200\n",
            "1/1 [==============================] - 0s 12ms/step - loss: 0.1924 - binary_accuracy: 0.9231\n",
            "Epoch 66/200\n",
            "1/1 [==============================] - 0s 13ms/step - loss: 0.1923 - binary_accuracy: 0.9231\n",
            "Epoch 67/200\n",
            "1/1 [==============================] - 0s 9ms/step - loss: 0.1921 - binary_accuracy: 0.9231\n",
            "Epoch 68/200\n",
            "1/1 [==============================] - 0s 12ms/step - loss: 0.1920 - binary_accuracy: 0.9231\n",
            "Epoch 69/200\n",
            "1/1 [==============================] - 0s 16ms/step - loss: 0.1919 - binary_accuracy: 0.9231\n",
            "Epoch 70/200\n",
            "1/1 [==============================] - 0s 8ms/step - loss: 0.1917 - binary_accuracy: 0.9231\n",
            "Epoch 71/200\n",
            "1/1 [==============================] - 0s 13ms/step - loss: 0.1916 - binary_accuracy: 0.9231\n",
            "Epoch 72/200\n",
            "1/1 [==============================] - 0s 8ms/step - loss: 0.1915 - binary_accuracy: 0.9231\n",
            "Epoch 73/200\n",
            "1/1 [==============================] - 0s 8ms/step - loss: 0.1914 - binary_accuracy: 0.9231\n",
            "Epoch 74/200\n",
            "1/1 [==============================] - 0s 7ms/step - loss: 0.1912 - binary_accuracy: 0.9231\n",
            "Epoch 75/200\n",
            "1/1 [==============================] - 0s 10ms/step - loss: 0.1911 - binary_accuracy: 0.9231\n",
            "Epoch 76/200\n",
            "1/1 [==============================] - 0s 12ms/step - loss: 0.1910 - binary_accuracy: 0.9231\n",
            "Epoch 77/200\n",
            "1/1 [==============================] - 0s 11ms/step - loss: 0.1909 - binary_accuracy: 0.9231\n",
            "Epoch 78/200\n",
            "1/1 [==============================] - 0s 11ms/step - loss: 0.1907 - binary_accuracy: 0.9231\n",
            "Epoch 79/200\n",
            "1/1 [==============================] - 0s 13ms/step - loss: 0.1906 - binary_accuracy: 0.9231\n",
            "Epoch 80/200\n",
            "1/1 [==============================] - 0s 7ms/step - loss: 0.1905 - binary_accuracy: 0.9231\n",
            "Epoch 81/200\n",
            "1/1 [==============================] - 0s 8ms/step - loss: 0.1904 - binary_accuracy: 0.9231\n",
            "Epoch 82/200\n",
            "1/1 [==============================] - 0s 8ms/step - loss: 0.1902 - binary_accuracy: 0.9231\n",
            "Epoch 83/200\n",
            "1/1 [==============================] - 0s 7ms/step - loss: 0.1901 - binary_accuracy: 0.9231\n",
            "Epoch 84/200\n",
            "1/1 [==============================] - 0s 7ms/step - loss: 0.1900 - binary_accuracy: 0.9231\n",
            "Epoch 85/200\n",
            "1/1 [==============================] - 0s 7ms/step - loss: 0.1899 - binary_accuracy: 0.9231\n",
            "Epoch 86/200\n",
            "1/1 [==============================] - 0s 7ms/step - loss: 0.1897 - binary_accuracy: 0.9231\n",
            "Epoch 87/200\n",
            "1/1 [==============================] - 0s 11ms/step - loss: 0.1896 - binary_accuracy: 0.9231\n",
            "Epoch 88/200\n",
            "1/1 [==============================] - 0s 10ms/step - loss: 0.1895 - binary_accuracy: 0.9231\n",
            "Epoch 89/200\n",
            "1/1 [==============================] - 0s 17ms/step - loss: 0.1894 - binary_accuracy: 0.9231\n",
            "Epoch 90/200\n",
            "1/1 [==============================] - 0s 13ms/step - loss: 0.1893 - binary_accuracy: 0.9231\n",
            "Epoch 91/200\n",
            "1/1 [==============================] - 0s 10ms/step - loss: 0.1891 - binary_accuracy: 0.9231\n",
            "Epoch 92/200\n",
            "1/1 [==============================] - 0s 9ms/step - loss: 0.1890 - binary_accuracy: 0.9231\n",
            "Epoch 93/200\n",
            "1/1 [==============================] - 0s 10ms/step - loss: 0.1889 - binary_accuracy: 0.9231\n",
            "Epoch 94/200\n",
            "1/1 [==============================] - 0s 14ms/step - loss: 0.1888 - binary_accuracy: 0.9231\n",
            "Epoch 95/200\n",
            "1/1 [==============================] - 0s 14ms/step - loss: 0.1887 - binary_accuracy: 0.9231\n",
            "Epoch 96/200\n",
            "1/1 [==============================] - 0s 9ms/step - loss: 0.1885 - binary_accuracy: 0.9231\n",
            "Epoch 97/200\n",
            "1/1 [==============================] - 0s 7ms/step - loss: 0.1884 - binary_accuracy: 0.9231\n",
            "Epoch 98/200\n",
            "1/1 [==============================] - 0s 6ms/step - loss: 0.1883 - binary_accuracy: 0.9231\n",
            "Epoch 99/200\n",
            "1/1 [==============================] - 0s 6ms/step - loss: 0.1882 - binary_accuracy: 0.9231\n",
            "Epoch 100/200\n",
            "1/1 [==============================] - 0s 8ms/step - loss: 0.1881 - binary_accuracy: 0.9231\n",
            "Epoch 101/200\n",
            "1/1 [==============================] - 0s 6ms/step - loss: 0.1879 - binary_accuracy: 0.9231\n",
            "Epoch 102/200\n",
            "1/1 [==============================] - 0s 6ms/step - loss: 0.1878 - binary_accuracy: 0.9231\n",
            "Epoch 103/200\n",
            "1/1 [==============================] - 0s 6ms/step - loss: 0.1877 - binary_accuracy: 0.9231\n",
            "Epoch 104/200\n",
            "1/1 [==============================] - 0s 9ms/step - loss: 0.1876 - binary_accuracy: 0.9231\n",
            "Epoch 105/200\n",
            "1/1 [==============================] - 0s 7ms/step - loss: 0.1875 - binary_accuracy: 0.9231\n",
            "Epoch 106/200\n",
            "1/1 [==============================] - 0s 6ms/step - loss: 0.1874 - binary_accuracy: 0.9231\n",
            "Epoch 107/200\n",
            "1/1 [==============================] - 0s 6ms/step - loss: 0.1872 - binary_accuracy: 0.9231\n",
            "Epoch 108/200\n",
            "1/1 [==============================] - 0s 6ms/step - loss: 0.1871 - binary_accuracy: 0.9231\n",
            "Epoch 109/200\n",
            "1/1 [==============================] - 0s 7ms/step - loss: 0.1870 - binary_accuracy: 0.9231\n",
            "Epoch 110/200\n",
            "1/1 [==============================] - 0s 6ms/step - loss: 0.1869 - binary_accuracy: 0.9231\n",
            "Epoch 111/200\n",
            "1/1 [==============================] - 0s 6ms/step - loss: 0.1868 - binary_accuracy: 0.9231\n",
            "Epoch 112/200\n",
            "1/1 [==============================] - 0s 6ms/step - loss: 0.1867 - binary_accuracy: 0.9231\n",
            "Epoch 113/200\n",
            "1/1 [==============================] - 0s 6ms/step - loss: 0.1865 - binary_accuracy: 0.9231\n",
            "Epoch 114/200\n",
            "1/1 [==============================] - 0s 6ms/step - loss: 0.1864 - binary_accuracy: 0.9231\n",
            "Epoch 115/200\n",
            "1/1 [==============================] - 0s 8ms/step - loss: 0.1863 - binary_accuracy: 0.9231\n",
            "Epoch 116/200\n",
            "1/1 [==============================] - 0s 6ms/step - loss: 0.1862 - binary_accuracy: 0.9231\n",
            "Epoch 117/200\n",
            "1/1 [==============================] - 0s 6ms/step - loss: 0.1861 - binary_accuracy: 0.9231\n",
            "Epoch 118/200\n",
            "1/1 [==============================] - 0s 7ms/step - loss: 0.1860 - binary_accuracy: 0.9231\n",
            "Epoch 119/200\n",
            "1/1 [==============================] - 0s 7ms/step - loss: 0.1858 - binary_accuracy: 0.9231\n",
            "Epoch 120/200\n",
            "1/1 [==============================] - 0s 6ms/step - loss: 0.1857 - binary_accuracy: 0.9231\n",
            "Epoch 121/200\n",
            "1/1 [==============================] - 0s 10ms/step - loss: 0.1856 - binary_accuracy: 0.9231\n",
            "Epoch 122/200\n",
            "1/1 [==============================] - 0s 15ms/step - loss: 0.1855 - binary_accuracy: 0.9231\n",
            "Epoch 123/200\n",
            "1/1 [==============================] - 0s 13ms/step - loss: 0.1854 - binary_accuracy: 0.9231\n",
            "Epoch 124/200\n",
            "1/1 [==============================] - 0s 12ms/step - loss: 0.1853 - binary_accuracy: 0.9231\n",
            "Epoch 125/200\n",
            "1/1 [==============================] - 0s 13ms/step - loss: 0.1852 - binary_accuracy: 0.9231\n",
            "Epoch 126/200\n",
            "1/1 [==============================] - 0s 13ms/step - loss: 0.1850 - binary_accuracy: 0.9231\n",
            "Epoch 127/200\n",
            "1/1 [==============================] - 0s 8ms/step - loss: 0.1849 - binary_accuracy: 0.9231\n",
            "Epoch 128/200\n",
            "1/1 [==============================] - 0s 6ms/step - loss: 0.1848 - binary_accuracy: 0.9231\n",
            "Epoch 129/200\n",
            "1/1 [==============================] - 0s 6ms/step - loss: 0.1847 - binary_accuracy: 0.9231\n",
            "Epoch 130/200\n",
            "1/1 [==============================] - 0s 6ms/step - loss: 0.1846 - binary_accuracy: 0.9231\n",
            "Epoch 131/200\n",
            "1/1 [==============================] - 0s 6ms/step - loss: 0.1845 - binary_accuracy: 0.9231\n",
            "Epoch 132/200\n",
            "1/1 [==============================] - 0s 6ms/step - loss: 0.1844 - binary_accuracy: 0.9231\n",
            "Epoch 133/200\n",
            "1/1 [==============================] - 0s 6ms/step - loss: 0.1843 - binary_accuracy: 0.9231\n",
            "Epoch 134/200\n",
            "1/1 [==============================] - 0s 6ms/step - loss: 0.1841 - binary_accuracy: 0.9231\n",
            "Epoch 135/200\n",
            "1/1 [==============================] - 0s 6ms/step - loss: 0.1840 - binary_accuracy: 0.9231\n",
            "Epoch 136/200\n",
            "1/1 [==============================] - 0s 6ms/step - loss: 0.1839 - binary_accuracy: 0.9231\n",
            "Epoch 137/200\n",
            "1/1 [==============================] - 0s 6ms/step - loss: 0.1838 - binary_accuracy: 0.9231\n",
            "Epoch 138/200\n",
            "1/1 [==============================] - 0s 6ms/step - loss: 0.1837 - binary_accuracy: 0.9231\n",
            "Epoch 139/200\n",
            "1/1 [==============================] - 0s 6ms/step - loss: 0.1836 - binary_accuracy: 0.9231\n",
            "Epoch 140/200\n",
            "1/1 [==============================] - 0s 5ms/step - loss: 0.1835 - binary_accuracy: 0.9231\n",
            "Epoch 141/200\n",
            "1/1 [==============================] - 0s 7ms/step - loss: 0.1834 - binary_accuracy: 0.9231\n",
            "Epoch 142/200\n",
            "1/1 [==============================] - 0s 13ms/step - loss: 0.1832 - binary_accuracy: 0.9231\n",
            "Epoch 143/200\n",
            "1/1 [==============================] - 0s 13ms/step - loss: 0.1831 - binary_accuracy: 0.9231\n",
            "Epoch 144/200\n",
            "1/1 [==============================] - 0s 10ms/step - loss: 0.1830 - binary_accuracy: 0.9231\n",
            "Epoch 145/200\n",
            "1/1 [==============================] - 0s 10ms/step - loss: 0.1829 - binary_accuracy: 0.9231\n",
            "Epoch 146/200\n",
            "1/1 [==============================] - 0s 12ms/step - loss: 0.1828 - binary_accuracy: 0.9231\n",
            "Epoch 147/200\n",
            "1/1 [==============================] - 0s 11ms/step - loss: 0.1827 - binary_accuracy: 0.9231\n",
            "Epoch 148/200\n",
            "1/1 [==============================] - 0s 7ms/step - loss: 0.1826 - binary_accuracy: 0.9231\n",
            "Epoch 149/200\n",
            "1/1 [==============================] - 0s 10ms/step - loss: 0.1825 - binary_accuracy: 0.9231\n",
            "Epoch 150/200\n",
            "1/1 [==============================] - 0s 6ms/step - loss: 0.1824 - binary_accuracy: 0.9231\n",
            "Epoch 151/200\n",
            "1/1 [==============================] - 0s 6ms/step - loss: 0.1822 - binary_accuracy: 0.9231\n",
            "Epoch 152/200\n",
            "1/1 [==============================] - 0s 6ms/step - loss: 0.1821 - binary_accuracy: 0.9231\n",
            "Epoch 153/200\n",
            "1/1 [==============================] - 0s 6ms/step - loss: 0.1820 - binary_accuracy: 0.9231\n",
            "Epoch 154/200\n",
            "1/1 [==============================] - 0s 6ms/step - loss: 0.1819 - binary_accuracy: 0.9231\n",
            "Epoch 155/200\n",
            "1/1 [==============================] - 0s 6ms/step - loss: 0.1818 - binary_accuracy: 0.9231\n",
            "Epoch 156/200\n",
            "1/1 [==============================] - 0s 5ms/step - loss: 0.1817 - binary_accuracy: 0.9231\n",
            "Epoch 157/200\n",
            "1/1 [==============================] - 0s 6ms/step - loss: 0.1816 - binary_accuracy: 0.9231\n",
            "Epoch 158/200\n",
            "1/1 [==============================] - 0s 5ms/step - loss: 0.1815 - binary_accuracy: 0.9231\n",
            "Epoch 159/200\n",
            "1/1 [==============================] - 0s 17ms/step - loss: 0.1814 - binary_accuracy: 0.9231\n",
            "Epoch 160/200\n",
            "1/1 [==============================] - 0s 8ms/step - loss: 0.1813 - binary_accuracy: 0.9231\n",
            "Epoch 161/200\n",
            "1/1 [==============================] - 0s 8ms/step - loss: 0.1812 - binary_accuracy: 0.9231\n",
            "Epoch 162/200\n",
            "1/1 [==============================] - 0s 9ms/step - loss: 0.1810 - binary_accuracy: 0.9231\n",
            "Epoch 163/200\n",
            "1/1 [==============================] - 0s 14ms/step - loss: 0.1809 - binary_accuracy: 0.9231\n",
            "Epoch 164/200\n",
            "1/1 [==============================] - 0s 6ms/step - loss: 0.1808 - binary_accuracy: 0.9231\n",
            "Epoch 165/200\n",
            "1/1 [==============================] - 0s 6ms/step - loss: 0.1807 - binary_accuracy: 0.9231\n",
            "Epoch 166/200\n",
            "1/1 [==============================] - 0s 6ms/step - loss: 0.1806 - binary_accuracy: 0.9231\n",
            "Epoch 167/200\n",
            "1/1 [==============================] - 0s 6ms/step - loss: 0.1805 - binary_accuracy: 0.9231\n",
            "Epoch 168/200\n",
            "1/1 [==============================] - 0s 6ms/step - loss: 0.1804 - binary_accuracy: 0.9231\n",
            "Epoch 169/200\n",
            "1/1 [==============================] - 0s 6ms/step - loss: 0.1803 - binary_accuracy: 0.9231\n",
            "Epoch 170/200\n",
            "1/1 [==============================] - 0s 6ms/step - loss: 0.1802 - binary_accuracy: 0.9231\n",
            "Epoch 171/200\n",
            "1/1 [==============================] - 0s 6ms/step - loss: 0.1801 - binary_accuracy: 0.9231\n",
            "Epoch 172/200\n",
            "1/1 [==============================] - 0s 6ms/step - loss: 0.1800 - binary_accuracy: 0.9231\n",
            "Epoch 173/200\n",
            "1/1 [==============================] - 0s 6ms/step - loss: 0.1799 - binary_accuracy: 0.9231\n",
            "Epoch 174/200\n",
            "1/1 [==============================] - 0s 6ms/step - loss: 0.1797 - binary_accuracy: 0.9231\n",
            "Epoch 175/200\n",
            "1/1 [==============================] - 0s 6ms/step - loss: 0.1796 - binary_accuracy: 0.9231\n",
            "Epoch 176/200\n",
            "1/1 [==============================] - 0s 6ms/step - loss: 0.1795 - binary_accuracy: 0.9231\n",
            "Epoch 177/200\n",
            "1/1 [==============================] - 0s 6ms/step - loss: 0.1794 - binary_accuracy: 0.9231\n",
            "Epoch 178/200\n",
            "1/1 [==============================] - 0s 6ms/step - loss: 0.1793 - binary_accuracy: 0.9231\n",
            "Epoch 179/200\n",
            "1/1 [==============================] - 0s 6ms/step - loss: 0.1792 - binary_accuracy: 0.9231\n",
            "Epoch 180/200\n",
            "1/1 [==============================] - 0s 6ms/step - loss: 0.1791 - binary_accuracy: 0.9231\n",
            "Epoch 181/200\n",
            "1/1 [==============================] - 0s 6ms/step - loss: 0.1790 - binary_accuracy: 0.9231\n",
            "Epoch 182/200\n",
            "1/1 [==============================] - 0s 6ms/step - loss: 0.1789 - binary_accuracy: 0.9231\n",
            "Epoch 183/200\n",
            "1/1 [==============================] - 0s 6ms/step - loss: 0.1788 - binary_accuracy: 0.9231\n",
            "Epoch 184/200\n",
            "1/1 [==============================] - 0s 6ms/step - loss: 0.1787 - binary_accuracy: 0.9231\n",
            "Epoch 185/200\n",
            "1/1 [==============================] - 0s 7ms/step - loss: 0.1786 - binary_accuracy: 0.9231\n",
            "Epoch 186/200\n",
            "1/1 [==============================] - 0s 6ms/step - loss: 0.1785 - binary_accuracy: 0.9231\n",
            "Epoch 187/200\n",
            "1/1 [==============================] - 0s 6ms/step - loss: 0.1784 - binary_accuracy: 0.9231\n",
            "Epoch 188/200\n",
            "1/1 [==============================] - 0s 6ms/step - loss: 0.1783 - binary_accuracy: 0.9231\n",
            "Epoch 189/200\n",
            "1/1 [==============================] - 0s 6ms/step - loss: 0.1782 - binary_accuracy: 0.9231\n",
            "Epoch 190/200\n",
            "1/1 [==============================] - 0s 6ms/step - loss: 0.1781 - binary_accuracy: 0.9231\n",
            "Epoch 191/200\n",
            "1/1 [==============================] - 0s 6ms/step - loss: 0.1779 - binary_accuracy: 0.9231\n",
            "Epoch 192/200\n",
            "1/1 [==============================] - 0s 6ms/step - loss: 0.1778 - binary_accuracy: 0.9231\n",
            "Epoch 193/200\n",
            "1/1 [==============================] - 0s 6ms/step - loss: 0.1777 - binary_accuracy: 0.9231\n",
            "Epoch 194/200\n",
            "1/1 [==============================] - 0s 6ms/step - loss: 0.1776 - binary_accuracy: 0.9231\n",
            "Epoch 195/200\n",
            "1/1 [==============================] - 0s 6ms/step - loss: 0.1775 - binary_accuracy: 0.9231\n",
            "Epoch 196/200\n",
            "1/1 [==============================] - 0s 6ms/step - loss: 0.1774 - binary_accuracy: 0.9231\n",
            "Epoch 197/200\n",
            "1/1 [==============================] - 0s 6ms/step - loss: 0.1773 - binary_accuracy: 0.9231\n",
            "Epoch 198/200\n",
            "1/1 [==============================] - 0s 6ms/step - loss: 0.1772 - binary_accuracy: 0.9231\n",
            "Epoch 199/200\n",
            "1/1 [==============================] - 0s 6ms/step - loss: 0.1771 - binary_accuracy: 0.9231\n",
            "Epoch 200/200\n",
            "1/1 [==============================] - 0s 6ms/step - loss: 0.1770 - binary_accuracy: 0.9231\n"
          ]
        },
        {
          "output_type": "execute_result",
          "data": {
            "text/plain": [
              "<keras.callbacks.History at 0x7f32c0169f50>"
            ]
          },
          "metadata": {},
          "execution_count": 9
        }
      ]
    },
    {
      "cell_type": "code",
      "source": [
        "plt.plot(x,model.predict(x),'b',x,y,'k.')"
      ],
      "metadata": {
        "colab": {
          "base_uri": "https://localhost:8080/",
          "height": 339
        },
        "id": "6WbvSyctC0wC",
        "outputId": "078cd1c6-29c1-4c92-dd8d-1ccf36323ff4"
      },
      "execution_count": null,
      "outputs": [
        {
          "output_type": "stream",
          "name": "stdout",
          "text": [
            "WARNING:tensorflow:5 out of the last 9 calls to <function Model.make_predict_function.<locals>.predict_function at 0x7f32c0112ef0> triggered tf.function retracing. Tracing is expensive and the excessive number of tracings could be due to (1) creating @tf.function repeatedly in a loop, (2) passing tensors with different shapes, (3) passing Python objects instead of tensors. For (1), please define your @tf.function outside of the loop. For (2), @tf.function has experimental_relax_shapes=True option that relaxes argument shapes that can avoid unnecessary retracing. For (3), please refer to https://www.tensorflow.org/guide/function#controlling_retracing and https://www.tensorflow.org/api_docs/python/tf/function for  more details.\n"
          ]
        },
        {
          "output_type": "execute_result",
          "data": {
            "text/plain": [
              "[<matplotlib.lines.Line2D at 0x7f32c0079510>,\n",
              " <matplotlib.lines.Line2D at 0x7f32c0079710>]"
            ]
          },
          "metadata": {},
          "execution_count": 10
        },
        {
          "output_type": "display_data",
          "data": {
            "text/plain": [
              "<Figure size 432x288 with 1 Axes>"
            ],
            "image/png": "[encoded data removed]"
          },
          "metadata": {
            "needs_background": "light"
          }
        }
      ]
    },
    {
      "cell_type": "code",
      "source": [
        " print(model.predict([1, 2, 3, 4, 4.5])) \n",
        "print(model.predict([11, 21, 31, 41, 500]))"
      ],
      "metadata": {
        "colab": {
          "base_uri": "https://localhost:8080/"
        },
        "id": "pxODc3n1DFXV",
        "outputId": "3d1763f7-bff4-451b-cd0d-b95683133b4c"
      },
      "execution_count": null,
      "outputs": [
        {
          "output_type": "stream",
          "name": "stdout",
          "text": [
            "WARNING:tensorflow:6 out of the last 10 calls to <function Model.make_predict_function.<locals>.predict_function at 0x7f32c0112ef0> triggered tf.function retracing. Tracing is expensive and the excessive number of tracings could be due to (1) creating @tf.function repeatedly in a loop, (2) passing tensors with different shapes, (3) passing Python objects instead of tensors. For (1), please define your @tf.function outside of the loop. For (2), @tf.function has experimental_relax_shapes=True option that relaxes argument shapes that can avoid unnecessary retracing. For (3), please refer to https://www.tensorflow.org/guide/function#controlling_retracing and https://www.tensorflow.org/api_docs/python/tf/function for  more details.\n",
            "[[0.5015903 ]\n",
            " [0.557082  ]\n",
            " [0.6111846 ]\n",
            " [0.66268015]\n",
            " [0.6871318 ]]\n",
            "[[0.90343845]\n",
            " [0.98863393]\n",
            " [0.9987649 ]\n",
            " [0.999867  ]\n",
            " [1.        ]]\n"
          ]
        }
      ]
    },
    {
      "cell_type": "markdown",
      "source": [
        "## 4. 다중 입력의 대한 실습"
      ],
      "metadata": {
        "id": "yZFsxoqUj9CN"
      }
    },
    {
      "cell_type": "markdown",
      "source": [
        "4-1. 다중 선형 회귀"
      ],
      "metadata": {
        "id": "T_fj6YYNkGtm"
      }
    },
    {
      "cell_type": "code",
      "source": [
        "import numpy as np\n",
        "from tensorflow.keras.models import Sequential\n",
        "from tensorflow.keras.layers import Dense\n",
        "from tensorflow.keras import optimizers"
      ],
      "metadata": {
        "id": "gAbGxi-4IJIX"
      },
      "execution_count": null,
      "outputs": []
    },
    {
      "cell_type": "code",
      "source": [
        "# 중간 고사, 기말 고사, 가산점 점수\n",
        "x = np.array([[70,85,11], [71,89,18], [50,80,20], [99,20,10], [50,10,10]])\n",
        "y = np.array([73, 82 ,72, 57, 34]) \n",
        "\n",
        "model = Sequential()\n",
        "model.add(Dense(1,input_dim = 3, activation='linear')) \n",
        "\n",
        "sgd  = optimizers.SGD(lr=0.0001)\n",
        "model.compile(optimizer=sgd, loss='mse',metrics=['mse'])\n",
        "model.fit(x,y,epochs=2000)"
      ],
      "metadata": {
        "id": "v4FWKcG5kafX"
      },
      "execution_count": null,
      "outputs": []
    },
    {
      "cell_type": "code",
      "source": [
        "print(model.predict(x)) # 모든 x 값에 대하여 실제값과 근사한 예측 성공"
      ],
      "metadata": {
        "colab": {
          "base_uri": "https://localhost:8080/"
        },
        "id": "ubZ08ZHJll3I",
        "outputId": "b2468123-065c-42e9-bf0b-b862cd1caa5c"
      },
      "execution_count": null,
      "outputs": [
        {
          "output_type": "stream",
          "name": "stdout",
          "text": [
            "[[72.91503]\n",
            " [81.98303]\n",
            " [72.10392]\n",
            " [57.12211]\n",
            " [33.79731]]\n"
          ]
        }
      ]
    },
    {
      "cell_type": "code",
      "source": [
        "x_test = np.array([[20,99,10],[40,50,20]]) # 학습하지 않은 데이터에 대해 예측\n",
        "print(model.predict(x_test)) "
      ],
      "metadata": {
        "colab": {
          "base_uri": "https://localhost:8080/"
        },
        "id": "rQuH9v2gnnn7",
        "outputId": "6ea40073-88f8-4d26-d04d-95c6aa3bfb28"
      },
      "execution_count": null,
      "outputs": [
        {
          "output_type": "stream",
          "name": "stdout",
          "text": [
            "[[57.862522]\n",
            " [56.07287 ]]\n"
          ]
        }
      ]
    },
    {
      "cell_type": "markdown",
      "source": [
        "### 4-2. 다중 로지스틱 회귀"
      ],
      "metadata": {
        "id": "V2jfSGrJn_wa"
      }
    },
    {
      "cell_type": "code",
      "source": [
        "x = np.array([[0, 0], [0, 1], [1, 0], [0, 2], [1, 1], [2, 0]]) # [x1, x2] x1 = 꽃받침 길이, x2 = 꽃잎의 길이\n",
        "y = np.array([0, 0, 0, 1, 1, 1]) # y = 꽃의 종류\n",
        "\n",
        "model = Sequential()\n",
        "model.add(Dense(1,input_dim=2, activation='sigmoid'))\n",
        "model.compile(optimizer='sgd', loss='binary_crossentropy', metrics=['binary_crossentropy'])\n",
        "model.fit(x, y, epochs=2000)"
      ],
      "metadata": {
        "id": "TPYJkki2n2dh"
      },
      "execution_count": null,
      "outputs": []
    },
    {
      "cell_type": "code",
      "source": [
        "print(model.predict(x))"
      ],
      "metadata": {
        "colab": {
          "base_uri": "https://localhost:8080/"
        },
        "id": "rPhsy71Ypcpn",
        "outputId": "d18841c5-3c08-4bb8-e9b3-2e3878f1964c"
      },
      "execution_count": null,
      "outputs": [
        {
          "output_type": "stream",
          "name": "stdout",
          "text": [
            "[[0.50013626]\n",
            " [0.59241784]\n",
            " [0.41151595]\n",
            " [0.6786107 ]\n",
            " [0.50393057]\n",
            " [0.32828563]]\n"
          ]
        }
      ]
    },
    {
      "cell_type": "markdown",
      "source": [
        "## 5. 벡터와 행렬 연산"
      ],
      "metadata": {
        "id": "Pk7_LdHqrFAW"
      }
    },
    {
      "cell_type": "markdown",
      "source": [
        "### 5-1. Tensor"
      ],
      "metadata": {
        "id": "Cq-WA4x_reKb"
      }
    },
    {
      "cell_type": "code",
      "source": [
        "import numpy as np"
      ],
      "metadata": {
        "id": "JA7Zu6FOqHgq"
      },
      "execution_count": null,
      "outputs": []
    },
    {
      "cell_type": "code",
      "source": [
        "d = np.array(5)  # 0차원 텐서(스칼라)\n",
        "print('텐서의 차원 :',d.ndim)\n",
        "print('텐서의 크기 :',d.shape)"
      ],
      "metadata": {
        "colab": {
          "base_uri": "https://localhost:8080/"
        },
        "id": "ZBsS4N-wrqCv",
        "outputId": "0a37c3cc-a689-4a7b-d04a-3b2c326f4409"
      },
      "execution_count": null,
      "outputs": [
        {
          "output_type": "stream",
          "name": "stdout",
          "text": [
            "텐서의 차원 : 0\n",
            "텐서의 크기 : ()\n"
          ]
        }
      ]
    },
    {
      "cell_type": "code",
      "source": [
        "d = np.array([1,2,3,4]) # 1차원 텐서(벡터)\n",
        "print('텐서의 차원 :',d.ndim)\n",
        "print('텐서의 크기 :',d.shape)"
      ],
      "metadata": {
        "colab": {
          "base_uri": "https://localhost:8080/"
        },
        "id": "GR239CYLsjay",
        "outputId": "52dd15ca-ecfc-44c7-a1b0-93c66166fcf2"
      },
      "execution_count": null,
      "outputs": [
        {
          "output_type": "stream",
          "name": "stdout",
          "text": [
            "텐서의 차원 : 1\n",
            "텐서의 크기 : (4,)\n"
          ]
        }
      ]
    },
    {
      "cell_type": "code",
      "source": [
        "d = np.array([[1,2,3,4],[5,6,7,8],[9,10,11,12]]) # 2차원 텐서(행렬)\n",
        "print('텐서의 차원 :',d.ndim)\n",
        "print('텐서의 크기 :',d.shape)"
      ],
      "metadata": {
        "colab": {
          "base_uri": "https://localhost:8080/"
        },
        "id": "N0IpaFr-r3hI",
        "outputId": "baddd39f-d5fd-4bca-c4c2-9586bb9995d1"
      },
      "execution_count": null,
      "outputs": [
        {
          "output_type": "stream",
          "name": "stdout",
          "text": [
            "텐서의 차원 : 2\n",
            "텐서의 크기 : (3, 4)\n"
          ]
        }
      ]
    },
    {
      "cell_type": "code",
      "source": [
        "# 3차원 텐서(다차원 행렬)\n",
        "d = np.array([  \n",
        "            [[1, 2, 3, 4, 5], [6, 7, 8, 9, 10], [10, 11, 12, 13, 14]],\n",
        "            [[15, 16, 17, 18, 19], [19, 20, 21, 22, 23], [23, 24, 25, 26, 27]]\n",
        "            ])\n",
        "print('텐서의 차원 :',d.ndim)\n",
        "print('텐서의 크기(shape) :',d.shape)"
      ],
      "metadata": {
        "colab": {
          "base_uri": "https://localhost:8080/"
        },
        "id": "wuYyMhUVsc1W",
        "outputId": "c9eef9ea-0e88-4183-a1ac-78e82bffa775"
      },
      "execution_count": null,
      "outputs": [
        {
          "output_type": "stream",
          "name": "stdout",
          "text": [
            "텐서의 차원 : 3\n",
            "텐서의 크기(shape) : (2, 3, 5)\n"
          ]
        }
      ]
    },
    {
      "cell_type": "markdown",
      "source": [
        "3차원 구조부터 본격적인 Tensor, 3D Tensor<br/>\n",
        "**용어 설명:** <br/>\n",
        "1. samples, batch_size : 샘플의 개수\n",
        "2. timesteps : 시퀀스의 길이\n",
        "3. word_dim : 단어를 표현하는 벡터의 차원"
      ],
      "metadata": {
        "id": "qMyM7PC3tiMg"
      }
    },
    {
      "cell_type": "markdown",
      "source": [
        "문서1 : I like NLP <br/>\n",
        "문서2 : I like DL <br/>\n",
        "문서3 : DL is AI <br/> <br/>\n",
        "<img src=\"https://drive.google.com/uc?id=1QqG8RQxScDeJ8us0Q-6pPq7LC7IVRWXK\" width=200, height=300>\n"
      ],
      "metadata": {
        "id": "8ntlSOKduV1j"
      }
    },
    {
      "cell_type": "markdown",
      "source": [
        "**배치(Batch)** <br/>\n",
        "[[[1, 0, 0, 0, 0, 0], [0, 1, 0, 0, 0, 0], [0, 0, 1, 0, 0, 0]],<br/>\n",
        "[[1, 0, 0, 0, 0, 0], [0, 1, 0, 0, 0, 0], [0, 0, 0, 1, 0, 0]],<br/>\n",
        "[[0, 0, 0, 1, 0, 0], [0, 0, 0, 0, 1, 0], [0, 0, 0, 0, 0, 1]]]"
      ],
      "metadata": {
        "id": "gCfSO_8wvTgU"
      }
    },
    {
      "cell_type": "markdown",
      "source": [
        "3차원 텐서를 배열로 합치면 4차원, 4차원 텐서를 배열로 합치면 5차원 ....<br/>\n",
        "==> 다차원 텐서"
      ],
      "metadata": {
        "id": "bNPzNX2Jvnqv"
      }
    },
    {
      "cell_type": "markdown",
      "source": [
        "**Keras 에서 텐서** <br/>\n",
        "신경망의 층에 입력의 크기(shape)를 인자로 줄 때 <br/>\n",
        "\"input_shape\"라는 인자를 사용 <br/> \n",
        "EX) input_shape(input_length, input_dim)<br/>\n",
        "input_shape(6,5) => 텐서의 크기 (?,6,5) <br/><br/>\n",
        "※ batch_size 추가시 <br/>\n",
        "batch_input_shape=(8, 2, 10) => 텐서의 크기 (8,2,10)"
      ],
      "metadata": {
        "id": "H56_4WciwjOe"
      }
    },
    {
      "cell_type": "markdown",
      "source": [
        "## 6. 소프트맥스 회귀(Softmax Regression)"
      ],
      "metadata": {
        "id": "KrZvMpRM0JxB"
      }
    },
    {
      "cell_type": "markdown",
      "source": [
        "1. 다중 클래스 분류\n",
        "2. 소프트맥스 함수<br/>\n",
        "(1)  선택지의 총 개수를 k라고 할 때, k차원의 벡터를 입력받아<br/>\n",
        "     &nbsp;&nbsp;&nbsp;&nbsp;&nbsp;&nbsp;\n",
        "     각 클래스에 대한 확률 추정<br/>\n",
        "(2) "
      ],
      "metadata": {
        "id": "rLyHCWyf094I"
      }
    },
    {
      "cell_type": "code",
      "source": [
        ""
      ],
      "metadata": {
        "id": "aFfssxJRs1JP"
      },
      "execution_count": null,
      "outputs": []
    }
  ]
}
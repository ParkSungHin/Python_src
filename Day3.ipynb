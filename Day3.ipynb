{
 "cells": [
  {
   "cell_type": "code",
   "execution_count": null,
   "metadata": {},
   "outputs": [],
   "source": [
    "#딕셔너리를 선언합니다.\n",
    "\n",
    "dictionary = {\n",
    "    'name':'7D 건조망고',\n",
    "    'type':'당절임',\n",
    "    'ingredient':['망고','설탕','메타중아황산나트륨','치자황색소',],\n",
    "    'origin':'필리핀'}\n"
   ]
  },
  {
   "cell_type": "code",
   "execution_count": null,
   "metadata": {},
   "outputs": [],
   "source": [
    "print(dictionary)\n",
    "print(dictionary['name'])\n",
    "print(dictionary['type'])\n",
    "print(dictionary['ingredient'])\n",
    "print(dictionary['ingredient'][2])"
   ]
  },
  {
   "cell_type": "code",
   "execution_count": null,
   "metadata": {},
   "outputs": [],
   "source": [
    "print(dictionary.keys()) # 딕셔너리의 key 값만 출력\n",
    "print(dictionary.values()) #딕셔너리의 value 값만 출력\n",
    "# print(dictionary[1]) # 오류 발생, key로만 접근 가능\n",
    "print(dictionary['name'],dictionary['type'])"
   ]
  },
  {
   "cell_type": "code",
   "execution_count": null,
   "metadata": {},
   "outputs": [],
   "source": [
    "#dictionary의 새로운 키와 값을 추가 : dict[새로운 키] = 값\n",
    "dictionary['price'] = 5000\n",
    "dictionary"
   ]
  },
  {
   "cell_type": "code",
   "execution_count": null,
   "metadata": {},
   "outputs": [],
   "source": [
    "#dictionary의 키와 값을 제거 : del dict[키]\n",
    "del dictionary['price']\n",
    "dictionary"
   ]
  },
  {
   "cell_type": "code",
   "execution_count": null,
   "metadata": {},
   "outputs": [],
   "source": [
    "# list 초기화 : a_list = []\n",
    "# dict 초기화 : a_dict = {}\n",
    "# in 연산자를 활용하여 키가 dict에 있는지 확인 가능\n",
    "print('price' in dictionary) #False\n",
    "print('name' in dictionary) #True"
   ]
  },
  {
   "cell_type": "code",
   "execution_count": null,
   "metadata": {},
   "outputs": [],
   "source": [
    "#dict.get(키) --> 값을 돌려줌 : 함수를 활용하여 존재하는지 확인\n",
    "print(dictionary.get('price')) #NONE\n",
    "print(dictionary.get('name')) # 7D 건조망고"
   ]
  },
  {
   "cell_type": "code",
   "execution_count": null,
   "metadata": {},
   "outputs": [],
   "source": [
    "# for 문을 활용하여 값을 출력 : 딕셔너리의 키를 가져옴\n",
    "for key in dictionary:\n",
    "    print(\"dictionary['{}'] : {}\".format(key,dictionary[key]))"
   ]
  },
  {
   "cell_type": "code",
   "execution_count": null,
   "metadata": {},
   "outputs": [],
   "source": [
    "# for 문을 활용하여 값을 출력 : 딕셔너리의 키와 값을 가져옴\n",
    "for key,value in dictionary.items():\n",
    "    print(\"dictionary['{}'] : {}\".format(key,value))"
   ]
  },
  {
   "cell_type": "code",
   "execution_count": null,
   "metadata": {
    "scrolled": true
   },
   "outputs": [],
   "source": [
    "# 이름과 점수를 입력받아 이름을 키로 점수를 값으로 하는 \n",
    "# student 딕셔너리에 추가\n",
    "# 이름에 'q'가 입력되면 입력 종료\n",
    "# 입력된 자료 출력\n",
    "# 입력한 학생의 인원수와 평균 출력\n",
    "# 검색할 이름을 입력받아 자료에 있는지 확인 후 자료의 성적을 출력\n",
    "student = {}\n",
    "\n",
    "while True:\n",
    "    #이름과 점수 입력\n",
    "    name_s = input('이름과 점수 입력 > ').split()\n",
    "    # 입력된 문자열과 이름을 점수로 분리 --> 리스트\n",
    "    # 입력된 이름이 'q'이면 입력 종료 \n",
    "    if name_s[0] == 'q':\n",
    "        print('입력 종료')\n",
    "        break\n",
    "    #       아니면 점수를 int()로 변환 후 이름을 키로 점수를 값으로 저장\n",
    "    name = name_s[0]\n",
    "    score = int(name_s[1])\n",
    "    \n",
    "    student[name] =  score"
   ]
  },
  {
   "cell_type": "code",
   "execution_count": null,
   "metadata": {},
   "outputs": [],
   "source": [
    "# 반복문을 활용하여 입력된 자료를 이름과 성적으로 출력\n",
    "# hap = 0\n",
    "for key in student:\n",
    "    print(\"이름 : {} \\t성적 : {}\".format(key,student[key]))\n",
    "#     hap += int(student[key])\n",
    "#     avg = hap / len(key)  \n",
    "    \n",
    "# 학생의 인원수와 성적의 합을 구한 후 평균 산출\n",
    "print(\"인원수 : {}\\t성적 합: {}\\t평균 : {}\".format(len(student), \n",
    "                                          sum(student.values()),\n",
    "                                          sum(student.values())/len(student)))\n",
    "# 검색할 이름 입력\n",
    "search = input(\"검색할 이름 입력 > \")\n",
    "if search in student:\n",
    "    print(\"이름 : {} \\t성적 : {}\".format(search,student[search]))\n",
    "else:\n",
    "    print(\"자료 없음\")\n",
    "# 검색하고자 하는 이름이 자료에 있으면 성적 출력, 아니면 '자료 없음' 출력"
   ]
  },
  {
   "cell_type": "code",
   "execution_count": 1,
   "metadata": {},
   "outputs": [
    {
     "name": "stdout",
     "output_type": "stream",
     "text": [
      "이름 입력 > 박지훈\n",
      "점수 입력(국 영 수) > 100 100 100\n",
      "이름 입력 > q\n"
     ]
    }
   ],
   "source": [
    "# 이름을 국어, 영어 , 수학 점수를 입력받아 student 에 저장\n",
    "# 각 학생의 총점, 과목 점수, 평균을 출력\n",
    "# 검색할 이름을 입력받아 학생의 총점, 평균 출력\n",
    "student = {}\n",
    "while True:\n",
    "    #이름과 점수 입력\n",
    "    name = input('이름 입력 > ')\n",
    "    # 입력된 문자열과 이름을 점수로 분리 --> 리스트\n",
    "    # 입력된 이름이 'q'이면 입력 종료 \n",
    "    if name == 'q':\n",
    "        break\n",
    "    while True: # 3과목 점수가 입력되지 않으면 입력반복\n",
    "        input_score = input('점수 입력(국 영 수) > ').split()\n",
    "        if len(input_score) == 3:\n",
    "            break\n",
    "            \n",
    "    score = []\n",
    "    for value in input_score: # 3 과목의 점수를 score 리스트에 추가\n",
    "        score.append(int(value))\n",
    "    student[name] = score"
   ]
  },
  {
   "cell_type": "code",
   "execution_count": 7,
   "metadata": {},
   "outputs": [
    {
     "name": "stdout",
     "output_type": "stream",
     "text": [
      "이름 : 국어\t영어\t수학\t총점\t평균\n",
      "박지훈 : 80\t100\t100\t280\t 93.33333333333333\n",
      "검색할 이름 : 박지훈\n",
      "박지훈 : 280, 93.33333333333333\n"
     ]
    }
   ],
   "source": [
    "# 각 학생의 총점, 평균 , 과목 점수 , 평균을 출력\n",
    "print(\"이름 : 국어\\t영어\\t수학\\t총점\\t평균\")\n",
    "for key in student:\n",
    "    print(key,end=' : ')\n",
    "    for score in student[key]:\n",
    "        print(score, end='\\t')\n",
    "    print(\"{}\\t {}\".format(sum(student[key]), sum(student[key])/3))\n",
    "# 검색할 이름을 입력받아 학생의 총점, 평균, 출력\n",
    "s_name = input(\"검색할 이름 : \")\n",
    "s_score = student.get(s_name)\n",
    "if s_score:\n",
    "    print(\"{} : {}, {}\".format(s_name,sum(s_score), sum(s_score)/len(s_score)))\n",
    "        "
   ]
  },
  {
   "cell_type": "code",
   "execution_count": 8,
   "metadata": {},
   "outputs": [
    {
     "name": "stdout",
     "output_type": "stream",
     "text": [
      "[80, 100, 100]\n"
     ]
    }
   ],
   "source": [
    "# 홍길동의 국어 점수를 80으로 수정\n",
    "student['박지훈'][0] = 80\n",
    "print(student['박지훈'])"
   ]
  },
  {
   "cell_type": "code",
   "execution_count": 14,
   "metadata": {},
   "outputs": [
    {
     "name": "stdout",
     "output_type": "stream",
     "text": [
      "numbers :  1\n",
      "222 counter[number]:  1\n",
      "numbers :  2\n",
      "222 counter[number]:  1\n",
      "numbers :  6\n",
      "222 counter[number]:  1\n",
      "numbers :  8\n",
      "222 counter[number]:  1\n",
      "numbers :  3\n",
      "222 counter[number]:  1\n",
      "numbers :  2\n",
      "111 counter[number]:  2\n",
      "numbers :  1\n",
      "111 counter[number]:  2\n",
      "numbers :  95\n",
      "222 counter[number]:  1\n",
      "numbers :  4\n",
      "222 counter[number]:  1\n",
      "numbers :  9\n",
      "222 counter[number]:  1\n",
      "numbers :  7\n",
      "222 counter[number]:  1\n",
      "numbers :  2\n",
      "111 counter[number]:  3\n",
      "numbers :  1\n",
      "111 counter[number]:  3\n",
      "numbers :  3\n",
      "111 counter[number]:  2\n",
      "numbers :  5\n",
      "222 counter[number]:  1\n",
      "numbers :  4\n",
      "111 counter[number]:  2\n",
      "numbers :  8\n",
      "111 counter[number]:  2\n",
      "numbers :  7\n",
      "111 counter[number]:  2\n",
      "numbers :  2\n",
      "111 counter[number]:  4\n",
      "numbers :  3\n",
      "111 counter[number]:  3\n",
      "{1: 3, 2: 4, 6: 1, 8: 2, 3: 3, 95: 1, 4: 2, 9: 1, 7: 2, 5: 1}\n"
     ]
    }
   ],
   "source": [
    "# 연습문제 3, 172p\n",
    "numbers = [1,2,6,8,3,2,1,95,4,9,7,2,1,3,5,4,8,7,2,3]\n",
    "# 1을 키로 나온 갯수를 값으로, 2의 개수\n",
    "# {1:3, 2:, 3:,...}\n",
    "# numbers 에서 값을 가져옴\n",
    "# 값이 dict에 키로 존재하면 키의 값에 1을 더함\n",
    "# 값이 dict의 키에 없으면 키와 1을 추가\n",
    "counter = {}\n",
    "\n",
    "for number in numbers:\n",
    "    print(\"numbers : \",number)\n",
    "    if number in counter.keys():\n",
    "        counter[number] += 1 # 기존의 값에 1을 더해서 저장\n",
    "        print(\"111 counter[number]: \",counter[number])\n",
    "    else:\n",
    "        counter[number] = 1  #신규 생성\n",
    "        print(\"222 counter[number]: \",counter[number])\n",
    "# 결과 출력\n",
    "print(counter)\n",
    "        "
   ]
  },
  {
   "cell_type": "code",
   "execution_count": 21,
   "metadata": {},
   "outputs": [
    {
     "name": "stdout",
     "output_type": "stream",
     "text": [
      "2\n",
      "3\n",
      "4\n",
      "5\n",
      "6\n",
      "7\n",
      "2\t3\t4\t5\t6\t7\t\n",
      "7\t6\t5\t4\t3\t2\t[7, 6, 5, 4, 3, 2]\n"
     ]
    },
    {
     "data": {
      "text/plain": [
       "[2, 3, 4, 5, 6, 7]"
      ]
     },
     "execution_count": 21,
     "metadata": {},
     "output_type": "execute_result"
    }
   ],
   "source": [
    "# range(start, stop, step) : range(5) -> 0~4까지, range(1,5) --> 1에서 4까지\n",
    "# range(0,5,2) --> 0에서 4까지 2씩 증가\n",
    "list_a = [2,3,4,5,6,7]\n",
    "for item in list_a:\n",
    "    print(item)\n",
    "# range 사용\n",
    "for idx in range(len(list_a)):\n",
    "        print(list_a[idx],end=\"\\t\")\n",
    "print()\n",
    "\n",
    "# 역으로 출력\n",
    "for r_idx in reversed(range(len(list_a))):\n",
    "    print(list_a[r_idx],end=\"\\t\")\n",
    "\n",
    "list_a.sort(reverse = True) #자료를 정렬, 기존 자료 변경\n",
    "print(list_a)\n",
    "\n",
    "list_a.reverse()\n",
    "list_a"
   ]
  },
  {
   "cell_type": "code",
   "execution_count": 42,
   "metadata": {},
   "outputs": [
    {
     "name": "stdout",
     "output_type": "stream",
     "text": [
      "1651469352.3193443\n",
      "1651469355.3193443\n"
     ]
    }
   ],
   "source": [
    "# while 시간을 기준으로 반복문 작성\n",
    "import time\n",
    "count = 0\n",
    "target_time = time.time() + 3 #현재 시간 반환\n",
    "while time.time() < target_time:\n",
    "    count += 1\n",
    "print(\"3초 동안 {}회수 실행\".format(count))"
   ]
  },
  {
   "cell_type": "code",
   "execution_count": 75,
   "metadata": {},
   "outputs": [
    {
     "name": "stdout",
     "output_type": "stream",
     "text": [
      "두 수를 입력하세요(숫자1 숫자2) > 11 22\n",
      "11부터 22까지 3의 배수의 합은 66\n",
      "11부터 22까지 3씩 증가하는 수의 합은 62\n",
      "11부터 22까지 5의 배수의 합은 35\n",
      "11부터 22까지 5씩 증가하는 수의 합은 48\n"
     ]
    }
   ],
   "source": [
    "# 두 수를 입력받아 두 수 사이의 3의 배수의 합과 5의 배수의 합을 구하세요\n",
    "# range() 함수를 사용하세요\n",
    "# 두 수는 포함 \n",
    "num1, num2 = input(\"두 수를 입력하세요(숫자1 숫자2) > \").split()\n",
    "\n",
    "num1 = int(num1)\n",
    "num2 = int(num2)\n",
    "\n",
    "if num1 > num2:\n",
    "    num1,num2 = num2, num1\n",
    "\n",
    "total = 0\n",
    "for num in range(num1,num2+1):\n",
    "    if num %3 == 0:\n",
    "        total += num\n",
    "print(\"{}부터 {}까지 3의 배수의 합은 {}\".format(num1, num2, total))\n",
    "print(\"{}부터 {}까지 3씩 증가하는 수의 합은 {}\".format(num1, num2, \n",
    "                                      sum(range(num1, num2+1,3))))\n",
    "total = 0\n",
    "for num in range(num1,num2+1):\n",
    "    if num %5 == 0:\n",
    "        total += num\n",
    "print(\"{}부터 {}까지 5의 배수의 합은 {}\".format(num1, num2, total))        \n",
    "print(\"{}부터 {}까지 5씩 증가하는 수의 합은 {}\".format(num1, num2, \n",
    "                                      sum(range(num1, num2+1,5))))\n",
    "\n"
   ]
  },
  {
   "cell_type": "code",
   "execution_count": 55,
   "metadata": {},
   "outputs": [
    {
     "name": "stdout",
     "output_type": "stream",
     "text": [
      "list_a :  [1, 2, 3, 4]\n",
      "list_reversed :  <list_reverseiterator object at 0x000001EA9A950550>\n",
      "111 4\n",
      "111 3\n",
      "111 2\n",
      "111 1\n"
     ]
    }
   ],
   "source": [
    "# 문자열, 리스트, 딕셔너리 관련된 함수\n",
    "# 리스트 : sum(list),min(list),max(list),reverse(list)\n",
    "list_a=  [1,2,3,4]\n",
    "#list_reversed = reversed(list_a)\n",
    "list_reversed = list(reversed(list_a)) # list_reversed = [5,4,3,2,1]\n",
    "\n",
    "print(\"list_a : \",list_a)\n",
    "print(\"list_reversed : \",list_reversed)\n",
    "#print(\"list_reversed : \",list(list_reversed))\n",
    "#reverse는 한번만 활용 가능\n",
    "\n",
    "for i in list_reversed:\n",
    "    print(\"111\",i)\n",
    "for i in list_reversed:\n",
    "    print(\"222\",i)"
   ]
  },
  {
   "cell_type": "code",
   "execution_count": 63,
   "metadata": {},
   "outputs": [
    {
     "name": "stdout",
     "output_type": "stream",
     "text": [
      "4\t5\t6\t7\t8\t9\t\n",
      "0\t1\t2\t3\t4\t5\t0번째 값 : 4\n",
      "1번째 값 : 5\n",
      "2번째 값 : 6\n",
      "3번째 값 : 7\n",
      "4번째 값 : 8\n",
      "5번째 값 : 9\n"
     ]
    }
   ],
   "source": [
    "list_a = [4,5,6,7,8,9]\n",
    "for num in list_a: #list의 값을 가져옴 \n",
    "    print(num,end=\"\\t\")\n",
    "print()\n",
    "for idx in range(len(list_a)): #list의 index를 가져옴\n",
    "    print(idx,end=\"\\t\")\n",
    "#list의 인덱스와 값을 같이 가져옴 -> enumerate(리스트)\n",
    "for idx, value in enumerate(list_a): #딕셔너리는 딕셔너리.items() 키와 값\n",
    "    print(\"{}번째 값 : {}\".format(idx,value))"
   ]
  },
  {
   "cell_type": "code",
   "execution_count": null,
   "metadata": {},
   "outputs": [],
   "source": [
    "# 리스트에 적용 가능한 함수 : max(리스트) min(리스트),\n",
    "#         sum(리스트), enumerate(리스트), reversed(리스트)\n",
    "#         list.sort(), list.reversed -> 해당 오브젝트를 변경 \n",
    "# 딕셔너리 오브젝트에 관련된 함수 : dict.keys(), dict.value(), dict.items()\n",
    "# for key in dict: -> 딕셔너리의 키를 가져옴\n",
    "# 리스트는 인덱스로 데이터를 접근  : 리스트[인덱스] , 리스트[start : stop]\n",
    "# 딕셔너리는 키로 데이터 접근 : 딕셔너리[키]\n",
    "# len(), type(), range() "
   ]
  },
  {
   "cell_type": "code",
   "execution_count": 65,
   "metadata": {},
   "outputs": [
    {
     "name": "stdout",
     "output_type": "stream",
     "text": [
      "[0, 4, 8, 12, 16, 20, 24, 28, 32, 36]\n",
      "[0, 4, 16, 36, 64, 100, 144, 196, 256, 324]\n"
     ]
    }
   ],
   "source": [
    "# 리스트 내포 [처리문장 for i in 반복 ]\n",
    "# 0부터 20까지 2씩 증가된 숫자의 제곱을 구해서 리스트에 저장\n",
    "list_b = []\n",
    "for num in range(0, 20, 2):\n",
    "    list_b.append(num + num)\n",
    "print(list_b)\n",
    "\n",
    "list_c = [num * num for num in range(0,20,2)]\n",
    "print(list_c)"
   ]
  },
  {
   "cell_type": "code",
   "execution_count": 70,
   "metadata": {},
   "outputs": [
    {
     "name": "stdout",
     "output_type": "stream",
     "text": [
      "1683\n"
     ]
    },
    {
     "data": {
      "text/plain": [
       "1683"
      ]
     },
     "execution_count": 70,
     "metadata": {},
     "output_type": "execute_result"
    }
   ],
   "source": [
    "# 리스트이름 = [ 표현식 for 반복자 in 반복자료 if 조건문 ]\n",
    "# 1부터 100까지 3의 배수의 합을 구하세요\n",
    "print(sum([i for i in range(1,100) if i % 3 == 0]))\n",
    "\n",
    "list_3 = []\n",
    "for i in range(1,100):\n",
    "    if i % 3 == 0:\n",
    "        list_3.append(i)\n",
    "sum(list_3)"
   ]
  },
  {
   "cell_type": "code",
   "execution_count": 74,
   "metadata": {},
   "outputs": [
    {
     "name": "stdout",
     "output_type": "stream",
     "text": [
      "['0', '2', '4', '6', '8', '10', '12', '14', '16', '18']\n",
      "a--b--c\n",
      "0*2*4*6*8*10*12*14*16*18\n",
      "0--2--4--6--8--10--12--14--16--18\n"
     ]
    },
    {
     "data": {
      "text/plain": [
       "['0', '2', '4', '6', '8', '10', '12', '14', '16', '18']"
      ]
     },
     "execution_count": 74,
     "metadata": {},
     "output_type": "execute_result"
    }
   ],
   "source": [
    "list_c = [str(num) for num in range(0,20,2)]\n",
    "print(list_c) # 0-4-16-36 --> 하나의 문자열로 변경\n",
    "\n",
    "# 리스트를 문자열로 join --> 문자열.join(문자열 리스트) --> 문자열\n",
    "print('--'.join(['a','b','c']))\n",
    "\n",
    "print(\"*\".join(list_c))\n",
    "list_str = '--'.join(list_c)\n",
    "print(list_str)\n",
    "list_split = list_str.split('--')\n",
    "list_split"
   ]
  },
  {
   "cell_type": "code",
   "execution_count": null,
   "metadata": {},
   "outputs": [],
   "source": []
  }
 ],
 "metadata": {
  "kernelspec": {
   "display_name": "Python 3",
   "language": "python",
   "name": "python3"
  },
  "language_info": {
   "codemirror_mode": {
    "name": "ipython",
    "version": 3
   },
   "file_extension": ".py",
   "mimetype": "text/x-python",
   "name": "python",
   "nbconvert_exporter": "python",
   "pygments_lexer": "ipython3",
   "version": "3.8.5"
  }
 },
 "nbformat": 4,
 "nbformat_minor": 4
}

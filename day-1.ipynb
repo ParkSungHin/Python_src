{
 "cells": [
  {
   "cell_type": "code",
   "execution_count": 2,
   "metadata": {},
   "outputs": [
    {
     "name": "stdout",
     "output_type": "stream",
     "text": [
      "hello world\n"
     ]
    }
   ],
   "source": [
    "print('hello world')"
   ]
  },
  {
   "cell_type": "code",
   "execution_count": 4,
   "metadata": {},
   "outputs": [
    {
     "name": "stdout",
     "output_type": "stream",
     "text": [
      "['False', 'None', 'True', 'and', 'as', 'assert', 'async', 'await', 'break', 'class', 'continue', 'def', 'del', 'elif', 'else', 'except', 'finally', 'for', 'from', 'global', 'if', 'import', 'in', 'is', 'lambda', 'nonlocal', 'not', 'or', 'pass', 'raise', 'return', 'try', 'while', 'with', 'yield']\n"
     ]
    }
   ],
   "source": [
    "import keyword\n",
    "print(keyword.kwlist)"
   ]
  },
  {
   "cell_type": "code",
   "execution_count": 5,
   "metadata": {},
   "outputs": [
    {
     "name": "stdout",
     "output_type": "stream",
     "text": [
      "30\n"
     ]
    }
   ],
   "source": [
    "a = 10 + 20\n",
    "print(a)"
   ]
  },
  {
   "cell_type": "code",
   "execution_count": 6,
   "metadata": {},
   "outputs": [
    {
     "name": "stdout",
     "output_type": "stream",
     "text": [
      "10 20 print test\n",
      "50\n",
      "30\n"
     ]
    },
    {
     "data": {
      "text/plain": [
       "20"
      ]
     },
     "execution_count": 6,
     "metadata": {},
     "output_type": "execute_result"
    }
   ],
   "source": [
    "print(10,20,'print test')\n",
    "print(50)\n",
    "print(a)\n",
    "b = 20\n",
    "b"
   ]
  },
  {
   "cell_type": "markdown",
   "metadata": {},
   "source": [
    "#파이썬 연습"
   ]
  },
  {
   "cell_type": "code",
   "execution_count": 7,
   "metadata": {},
   "outputs": [
    {
     "name": "stdout",
     "output_type": "stream",
     "text": [
      "하나만 출력합니다\n",
      "hello python programing..!\n",
      "\n"
     ]
    }
   ],
   "source": [
    "print(\"하나만 출력합니다\")\n",
    "print('hello python programing..!')\n",
    "print()"
   ]
  },
  {
   "cell_type": "code",
   "execution_count": 8,
   "metadata": {},
   "outputs": [
    {
     "name": "stdout",
     "output_type": "stream",
     "text": [
      "여러개를 출력합니다\n",
      "10 20 30 40\n",
      "안녕하세요 저의 이름은 박지훈입니다!\n",
      "\n"
     ]
    }
   ],
   "source": [
    "print('여러개를 출력합니다')\n",
    "print(10,20,30,40)\n",
    "print('안녕하세요','저의','이름은','박지훈입니다!')\n",
    "print()"
   ]
  },
  {
   "cell_type": "code",
   "execution_count": 9,
   "metadata": {},
   "outputs": [
    {
     "name": "stdout",
     "output_type": "stream",
     "text": [
      "아무것도 출력하지 않았습니다\n",
      "------ 확인전용선 -------\n",
      "\n",
      "\n",
      "------ 확인전용선 -------\n"
     ]
    }
   ],
   "source": [
    "print('아무것도 출력하지 않았습니다')\n",
    "print('------ 확인전용선 -------')\n",
    "print()\n",
    "print()\n",
    "print('------ 확인전용선 -------')"
   ]
  },
  {
   "cell_type": "code",
   "execution_count": 16,
   "metadata": {},
   "outputs": [
    {
     "name": "stdout",
     "output_type": "stream",
     "text": [
      "<class 'str'>\t<class 'str'>\t<class 'bool'>\t<class 'float'>\n",
      "\n",
      "test123 blank\n",
      "\"hello !!\\\"\n"
     ]
    }
   ],
   "source": [
    "#함수사용\n",
    "print(type('test'),type('12'),type(True),type(12.4),sep=\"\\t\",end=\"\\n\\n\")\n",
    "print('test123','blank')\n",
    "#\"를 출력 |\" escape 문자 사용\n",
    "print(\"\\\"hello !!\\\\\\\"\")\n",
    "\n",
    "#\\n,\\t, \\특수문자 (\",',\\)"
   ]
  },
  {
   "cell_type": "code",
   "execution_count": 17,
   "metadata": {},
   "outputs": [
    {
     "name": "stdout",
     "output_type": "stream",
     "text": [
      "이름\t나이\t지역\n",
      "박지훈\t23\t성남시\n",
      "박성진\t24\t위례시\n"
     ]
    }
   ],
   "source": [
    "# \\t를 이용하여 자리수 맞춤으로 출력\n",
    "print(\"이름\\t나이\\t지역\")\n",
    "print(\"박지훈\\t23\\t성남시\")\n",
    "print(\"박성진\\t24\\t위례시\")"
   ]
  },
  {
   "cell_type": "code",
   "execution_count": 19,
   "metadata": {},
   "outputs": [
    {
     "name": "stdout",
     "output_type": "stream",
     "text": [
      "동해물과 백두산이 마르고 닳도록\n",
      "하느님이 보우하사 우리나라 만세\n",
      "무궁화 삼천리 화려강산 대한사람\n",
      "대한으로 길이 보전하세\n"
     ]
    }
   ],
   "source": [
    "print(\"\"\"동해물과 백두산이 마르고 닳도록\n",
    "하느님이 보우하사 우리나라 만세\n",
    "무궁화 삼천리 화려강산 대한사람\n",
    "대한으로 길이 보전하세\"\"\")\n",
    "# \"\"\" 문자열 \"\"\" --> 여러 라인의 문자열\n",
    "#문자열 연산 --> 문자열 + 문자열"
   ]
  },
  {
   "cell_type": "code",
   "execution_count": 22,
   "metadata": {},
   "outputs": [
    {
     "name": "stdout",
     "output_type": "stream",
     "text": [
      "Good afternoon end!\n"
     ]
    },
    {
     "ename": "TypeError",
     "evalue": "can only concatenate str (not \"int\") to str",
     "output_type": "error",
     "traceback": [
      "\u001b[1;31m---------------------------------------------------------------------------\u001b[0m",
      "\u001b[1;31mTypeError\u001b[0m                                 Traceback (most recent call last)",
      "\u001b[1;32m<ipython-input-22-99b2c92d0f91>\u001b[0m in \u001b[0;36m<module>\u001b[1;34m\u001b[0m\n\u001b[0;32m      1\u001b[0m \u001b[0mprint\u001b[0m\u001b[1;33m(\u001b[0m\u001b[1;34m\"Good\"\u001b[0m \u001b[1;33m+\u001b[0m \u001b[1;34m\" afternoon\"\u001b[0m \u001b[1;33m+\u001b[0m \u001b[1;34m\" end!\"\u001b[0m\u001b[1;33m)\u001b[0m\u001b[1;33m\u001b[0m\u001b[1;33m\u001b[0m\u001b[0m\n\u001b[1;32m----> 2\u001b[1;33m \u001b[0mprint\u001b[0m\u001b[1;33m(\u001b[0m\u001b[1;34m\"Good\"\u001b[0m \u001b[1;33m+\u001b[0m \u001b[1;36m1\u001b[0m\u001b[1;33m)\u001b[0m \u001b[1;31m#error\u001b[0m\u001b[1;33m\u001b[0m\u001b[1;33m\u001b[0m\u001b[0m\n\u001b[0m",
      "\u001b[1;31mTypeError\u001b[0m: can only concatenate str (not \"int\") to str"
     ]
    }
   ],
   "source": [
    "print(\"Good\" + \" afternoon\" + \" end!\") \n",
    "# print(\"Good\" + 1) #error "
   ]
  },
  {
   "cell_type": "code",
   "execution_count": 36,
   "metadata": {
    "scrolled": true
   },
   "outputs": [
    {
     "name": "stdout",
     "output_type": "stream",
     "text": [
      "testtesttest\n",
      "testtesttest\n"
     ]
    },
    {
     "ename": "TypeError",
     "evalue": "can only concatenate str (not \"int\") to str",
     "output_type": "error",
     "traceback": [
      "\u001b[1;31m---------------------------------------------------------------------------\u001b[0m",
      "\u001b[1;31mTypeError\u001b[0m                                 Traceback (most recent call last)",
      "\u001b[1;32m<ipython-input-36-c68e2c3a591d>\u001b[0m in \u001b[0;36m<module>\u001b[1;34m\u001b[0m\n\u001b[0;32m      4\u001b[0m \u001b[0mprint\u001b[0m\u001b[1;33m(\u001b[0m\u001b[1;36m3\u001b[0m \u001b[1;33m*\u001b[0m \u001b[1;34m\"test\"\u001b[0m\u001b[1;33m)\u001b[0m\u001b[1;33m\u001b[0m\u001b[1;33m\u001b[0m\u001b[0m\n\u001b[0;32m      5\u001b[0m \u001b[0mprint\u001b[0m\u001b[1;33m(\u001b[0m\u001b[1;34m\"test\"\u001b[0m \u001b[1;33m*\u001b[0m \u001b[1;36m3\u001b[0m\u001b[1;33m)\u001b[0m\u001b[1;33m\u001b[0m\u001b[1;33m\u001b[0m\u001b[0m\n\u001b[1;32m----> 6\u001b[1;33m \u001b[0mprint\u001b[0m\u001b[1;33m(\u001b[0m\u001b[1;34m\"test\"\u001b[0m \u001b[1;33m+\u001b[0m \u001b[1;36m3\u001b[0m\u001b[1;33m)\u001b[0m\u001b[1;33m\u001b[0m\u001b[1;33m\u001b[0m\u001b[0m\n\u001b[0m",
      "\u001b[1;31mTypeError\u001b[0m: can only concatenate str (not \"int\") to str"
     ]
    }
   ],
   "source": [
    "# 문자열 + 숫자 ==> 숫자만큼 문자열 반복\n",
    "# 숫자 * 문자열\n",
    "\n",
    "print(3 * \"test\")\n",
    "print(\"test\" * 3)\n",
    "print(\"test\" + 3)"
   ]
  },
  {
   "cell_type": "code",
   "execution_count": 39,
   "metadata": {},
   "outputs": [
    {
     "name": "stdout",
     "output_type": "stream",
     "text": [
      "안\n",
      "요\n",
      "세\n"
     ]
    }
   ],
   "source": [
    "#인덱스 -> 문자열[인덱스]\n",
    "a_str = \"안녕하세요\"\n",
    "print(a_str[0])\n",
    "print(a_str[-1])\n",
    "print(a_str[-2])"
   ]
  },
  {
   "cell_type": "code",
   "execution_count": 49,
   "metadata": {},
   "outputs": [
    {
     "name": "stdout",
     "output_type": "stream",
     "text": [
      "안녕\n",
      "하세요\n",
      "안녕하\n",
      "안녕하세\n",
      "안녕하세요\n",
      "세\n"
     ]
    },
    {
     "ename": "IndexError",
     "evalue": "string index out of range",
     "output_type": "error",
     "traceback": [
      "\u001b[1;31m---------------------------------------------------------------------------\u001b[0m",
      "\u001b[1;31mIndexError\u001b[0m                                Traceback (most recent call last)",
      "\u001b[1;32m<ipython-input-49-2cdad6197756>\u001b[0m in \u001b[0;36m<module>\u001b[1;34m\u001b[0m\n\u001b[0;32m     16\u001b[0m \u001b[0mprint\u001b[0m\u001b[1;33m(\u001b[0m\u001b[0ma_str\u001b[0m\u001b[1;33m[\u001b[0m\u001b[1;33m-\u001b[0m\u001b[1;36m2\u001b[0m\u001b[1;33m]\u001b[0m\u001b[1;33m)\u001b[0m\u001b[1;33m\u001b[0m\u001b[1;33m\u001b[0m\u001b[0m\n\u001b[0;32m     17\u001b[0m \u001b[1;33m\u001b[0m\u001b[0m\n\u001b[1;32m---> 18\u001b[1;33m \u001b[0mprint\u001b[0m\u001b[1;33m(\u001b[0m\u001b[0ma_str\u001b[0m\u001b[1;33m[\u001b[0m\u001b[1;36m10\u001b[0m\u001b[1;33m]\u001b[0m\u001b[1;33m)\u001b[0m\u001b[1;33m\u001b[0m\u001b[1;33m\u001b[0m\u001b[0m\n\u001b[0m",
      "\u001b[1;31mIndexError\u001b[0m: string index out of range"
     ]
    }
   ],
   "source": [
    "#범위의 자료를 검색 [start : end + 1] --> end는 포함하지 않음\n",
    "#안녕만 출략\n",
    "print(a_str[:2])\n",
    "\n",
    "#\"하\" 부터 끝까지 출력\n",
    "print(a_str[2:])\n",
    "\n",
    "#\"하\" 까지 출력\n",
    "print(a_str[0:3])\n",
    "\n",
    "# 마지막 글씨만 제외하고 출력\n",
    "print(a_str[:-1])\n",
    "#모든 문자 출력\n",
    "print(a_str[:])\n",
    "# 뒤에서 두번째 문자 출력\n",
    "print(a_str[-2])\n",
    "\n",
    "print(a_str[10])"
   ]
  },
  {
   "cell_type": "code",
   "execution_count": 53,
   "metadata": {},
   "outputs": [
    {
     "name": "stdout",
     "output_type": "stream",
     "text": [
      "5\n",
      "하세\n",
      "<class 'str'>\n"
     ]
    }
   ],
   "source": [
    "# 자료의 타입을 알려주는 함수 type()\n",
    "# 문자열의 길이를 구하는 함수 : len()\n",
    "print(len(a_str))\n",
    "print(a_str[2:len(a_str) - 1])\n",
    "print(type(a_str))"
   ]
  },
  {
   "cell_type": "code",
   "execution_count": 60,
   "metadata": {},
   "outputs": [
    {
     "name": "stdout",
     "output_type": "stream",
     "text": [
      "6 2 0 6\n",
      "10 + 3 = 13\n",
      "10 - 3 = 7\n",
      "10 * 3 = 30\n",
      "10 % 3 = 1\n"
     ]
    }
   ],
   "source": [
    "#숫자 연산제 - + * % ---\n",
    "print(4 + 2,4 -2,6%2,3*2)\n",
    "a = 10; b = 3\n",
    "print(a, \"+\", b,\"=\" ,a+b)\n",
    "print(a, \"-\", b,\"=\" ,a-b)\n",
    "print(a, \"*\", b,\"=\" ,a*b)\n",
    "print(a, \"%\", b,\"=\" ,a%b)"
   ]
  },
  {
   "cell_type": "code",
   "execution_count": 62,
   "metadata": {},
   "outputs": [
    {
     "data": {
      "text/plain": [
       "13"
      ]
     },
     "execution_count": 62,
     "metadata": {},
     "output_type": "execute_result"
    }
   ],
   "source": [
    "# 변수 선언과 참조\n",
    "a = 10\n",
    "a + b"
   ]
  },
  {
   "cell_type": "code",
   "execution_count": 63,
   "metadata": {},
   "outputs": [
    {
     "data": {
      "text/plain": [
       "16"
      ]
     },
     "execution_count": 63,
     "metadata": {},
     "output_type": "execute_result"
    }
   ],
   "source": [
    "a += 3 # a <- 13,16,19\n",
    "a + b   # 16 19 22"
   ]
  },
  {
   "cell_type": "code",
   "execution_count": 68,
   "metadata": {},
   "outputs": [
    {
     "name": "stdout",
     "output_type": "stream",
     "text": [
      "자료 입력 > 123\n",
      "123\n",
      "223.0\n",
      "123four\n",
      "1234\n"
     ]
    }
   ],
   "source": [
    "#키보드에서 입력 받는 함수 input()\n",
    "input_data = input('자료 입력 > ') #깂\n",
    "print(input_data)\n",
    "\n",
    "#데이터 타입 변경 -> int(), float(), str()\n",
    "print(float(input_data) + 100)\n",
    "print(str(input_data) + 'four')\n",
    "print(str(input_data) + '4')"
   ]
  },
  {
   "cell_type": "code",
   "execution_count": 82,
   "metadata": {},
   "outputs": [
    {
     "name": "stdout",
     "output_type": "stream",
     "text": [
      "숫자 입력 >1\n",
      "숫자 입력 >2\n",
      "ip1 type :  <class 'float'> \tip2 type :  <class 'float'>\n",
      "1.0  +  2.0 =\n",
      "3.0\n",
      "1.0  +  2.0 =\n",
      "2.0\n"
     ]
    }
   ],
   "source": [
    "#키보드로 부터 두 수를 입력받아 두 수의 합과, 곱의 결과를 구하시오\n",
    "ip1 = input(\"숫자 입력 >\")\n",
    "ip2 = input(\"숫자 입력 >\")\n",
    "ip1 = float(ip1)\n",
    "ip2 = float(ip2)\n",
    "print(\"ip1 type : \",type(ip1),\"\\tip2 type : \",type(ip2))\n",
    "\n",
    "\n",
    "print(ip1, \" + \",ip2,\"=\")\n",
    "print(float(ip1) + float(ip2))\n",
    "print(ip1, \" + \",ip2,\"=\")\n",
    "print(float(ip1) * float(ip2))"
   ]
  },
  {
   "cell_type": "code",
   "execution_count": 84,
   "metadata": {},
   "outputs": [
    {
     "name": "stdout",
     "output_type": "stream",
     "text": [
      "test 123\n",
      "1.0 + 2.0 = 3.0\n",
      "ip1 type: <class 'float'>\t ip2 : <class 'float'>\n"
     ]
    }
   ],
   "source": [
    "# 문자열 관련 함수  : \"{} {}\".format(data1, data2)\n",
    "print(\"{} {}\".format(\"test\",123))\n",
    "print(\"{} + {} = {}\". format(ip1,ip2,ip1+ip2))\n",
    "print(\"ip1 type: {}\\t ip2 : {}\".\\\n",
    "     format(type(ip1),type(ip2)))"
   ]
  },
  {
   "cell_type": "code",
   "execution_count": 85,
   "metadata": {},
   "outputs": [
    {
     "name": "stdout",
     "output_type": "stream",
     "text": [
      "# 기본\n",
      "52\n",
      "# 특정 칸에 출력하기\n",
      "   52\n",
      "        52\n",
      "# 빈칸을 0으로 채우기\n",
      "00052\n",
      "-0052\n"
     ]
    }
   ],
   "source": [
    "#정수를 특정 칸에 출력하기\n",
    "\n",
    "#정수\n",
    "output_a = \"{:d}\".format(52)\n",
    "\n",
    "#특정 칸에 출력하기\n",
    "output_b = \"{:5d}\".format(52) #5칸\n",
    "output_c = \"{:10d}\".format(52)  #10칸\n",
    "\n",
    "#빈칸을 0으로 채우기\n",
    "output_d = \"{:05d}\".format(52) #양수\n",
    "output_e = \"{:05d}\".format(-52) #음수\n",
    "\n",
    "print(\"# 기본\")\n",
    "print(output_a)\n",
    "\n",
    "print(\"# 특정 칸에 출력하기\")\n",
    "print(output_b)\n",
    "print(output_c)\n",
    "\n",
    "print(\"# 빈칸을 0으로 채우기\")\n",
    "print(output_d)\n",
    "print(output_e)"
   ]
  },
  {
   "cell_type": "code",
   "execution_count": 89,
   "metadata": {},
   "outputs": [
    {
     "name": "stdout",
     "output_type": "stream",
     "text": [
      "영문자 입력> oh shit\n",
      "소문자 출력: oh shit\n",
      "대문자 출력: OH SHIT\n"
     ]
    }
   ],
   "source": [
    "#키보드에서 영문자 입력 -> input_str에 저장\n",
    "input_str = input(\"영문자 입력> \")\n",
    "#소문자로 출력 문자열.lower()\n",
    "print(\"소문자 출력: {}\".format(input_str.lower()))\n",
    "#대문자로 출력 문자열.upper()\n",
    "print(\"대문자 출력: {}\".format(input_str.upper()))"
   ]
  },
  {
   "cell_type": "code",
   "execution_count": null,
   "metadata": {},
   "outputs": [],
   "source": []
  }
 ],
 "metadata": {
  "kernelspec": {
   "display_name": "Python 3",
   "language": "python",
   "name": "python3"
  },
  "language_info": {
   "codemirror_mode": {
    "name": "ipython",
    "version": 3
   },
   "file_extension": ".py",
   "mimetype": "text/x-python",
   "name": "python",
   "nbconvert_exporter": "python",
   "pygments_lexer": "ipython3",
   "version": "3.8.5"
  }
 },
 "nbformat": 4,
 "nbformat_minor": 4
}

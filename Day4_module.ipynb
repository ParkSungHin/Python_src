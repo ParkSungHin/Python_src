{
 "cells": [
  {
   "cell_type": "code",
   "execution_count": 1,
   "metadata": {},
   "outputs": [
    {
     "name": "stdout",
     "output_type": "stream",
     "text": [
      "0.8414709848078965\n",
      "4\n",
      "5\n"
     ]
    }
   ],
   "source": [
    "# 모듈 import 모듈명, from 패키지 또는 모듈명 import 모듈명 또는 함수명, 변수\n",
    "# import 모듈 as 사용하고자 하는 식별자(별명)\n",
    "import math as mt\n",
    "\n",
    "print(mt.sin(1))\n",
    "print(mt.floor(4.5))\n",
    "print(mt.ceil(4.5))"
   ]
  },
  {
   "cell_type": "code",
   "execution_count": 2,
   "metadata": {},
   "outputs": [
    {
     "data": {
      "text/plain": [
       "-0.5440211108893698"
      ]
     },
     "execution_count": 2,
     "metadata": {},
     "output_type": "execute_result"
    }
   ],
   "source": [
    "from math import sin,cos, floor\n",
    "\n",
    "sin(10)"
   ]
  },
  {
   "cell_type": "code",
   "execution_count": 31,
   "metadata": {},
   "outputs": [
    {
     "name": "stdout",
     "output_type": "stream",
     "text": [
      "random() :  0.1744747500760757\n",
      "unifom() 4.956037380611161\n",
      "randrange() :  9\n",
      "choice() 3\n",
      "shuffle() :  None\n",
      "shuffle() : after  [2, 1, 3, 23, 6]\n",
      "sample() [3, 6, 1]\n"
     ]
    }
   ],
   "source": [
    "# random 모듈 사용해보기\n",
    "import random\n",
    "\n",
    "print(\"random() : \",random.random())\n",
    "print(\"unifom()\", random.uniform(1,10))\n",
    "print(\"randrange() : \",random.randrange(10))\n",
    "list_a = [1,2,3,6,23]\n",
    "print(\"choice()\", random.choice(list_a))\n",
    "print(\"shuffle() : \", random.shuffle(list_a))\n",
    "print(\"shuffle() : after \",list_a)\n",
    "print(\"sample()\", random.sample(list_a, k=3))"
   ]
  },
  {
   "cell_type": "code",
   "execution_count": 34,
   "metadata": {},
   "outputs": [
    {
     "name": "stdout",
     "output_type": "stream",
     "text": [
      "nt C:\\Users\\dhrj4\\Desktop\\python_src\n",
      "['.git', '.ipynb_checkpoints', 'basic.txt', 'cal.py', 'day-1(BLANKED).ipynb', 'day-1.ipynb', 'day-1.py', 'day-2(hw).ipynb', 'day-2(답지).py', 'day-4.ipynb', 'day1_prac.py', 'Day2.ipynb', 'Day3.ipynb', 'Day4.ipynb', 'Day4_module.ipynb', 'Function.ipynb', 'info.txt', 'info1.txt', 'Python_prac.ipynb', 'student.txt', '새 텍스트 문서.txt']\n",
      "None\n"
     ]
    }
   ],
   "source": [
    "import os\n",
    "print(os.name, os.getcwd())\n",
    "print(os.listdir())\n",
    "print(os.mkdir('test_dir'))"
   ]
  },
  {
   "cell_type": "code",
   "execution_count": 37,
   "metadata": {},
   "outputs": [
    {
     "ename": "SyntaxError",
     "evalue": "invalid syntax (<ipython-input-37-c4c5d528713f>, line 4)",
     "output_type": "error",
     "traceback": [
      "\u001b[1;36m  File \u001b[1;32m\"<ipython-input-37-c4c5d528713f>\"\u001b[1;36m, line \u001b[1;32m4\u001b[0m\n\u001b[1;33m    os.\u001b[0m\n\u001b[1;37m       ^\u001b[0m\n\u001b[1;31mSyntaxError\u001b[0m\u001b[1;31m:\u001b[0m invalid syntax\n"
     ]
    }
   ],
   "source": [
    "print(os.listdir())\n",
    "os.rmdir('test_dir/')\n",
    "print(os.listdir())\n",
    "os."
   ]
  }
 ],
 "metadata": {
  "kernelspec": {
   "display_name": "Python 3",
   "language": "python",
   "name": "python3"
  },
  "language_info": {
   "codemirror_mode": {
    "name": "ipython",
    "version": 3
   },
   "file_extension": ".py",
   "mimetype": "text/x-python",
   "name": "python",
   "nbconvert_exporter": "python",
   "pygments_lexer": "ipython3",
   "version": "3.8.5"
  }
 },
 "nbformat": 4,
 "nbformat_minor": 4
}

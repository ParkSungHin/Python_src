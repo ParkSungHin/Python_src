{
 "cells": [
  {
   "cell_type": "code",
   "execution_count": 11,
   "metadata": {},
   "outputs": [
    {
     "name": "stdout",
     "output_type": "stream",
     "text": [
      "홍길동 : 90, 80, 총점 : 170\n"
     ]
    }
   ],
   "source": [
    "class Student:\n",
    "#     def __init__(self,추가적인 매개변수)\n",
    "    def __init__(self,name,kor,math):\n",
    "        self.name = name\n",
    "        self.kor = kor\n",
    "        self.math = math\n",
    "        \n",
    "    def get_sum(self):\n",
    "        return self.kor + self.math\n",
    "    \n",
    "        \n",
    "student_1 = Student('홍길동',90,80) # 클래스명() --> 생성자, 하나의 instance 생성\n",
    "print(\"{} : {}, {}, 총점 : {}\".format(student_1.name,student_1.kor,\n",
    "                                   student_1.math, student_1.get_sum()))"
   ]
  },
  {
   "cell_type": "code",
   "execution_count": 12,
   "metadata": {},
   "outputs": [],
   "source": [
    "# 이름, 국어, 영어, 수학 점수를 입력받아\n",
    "# 클래스의 리스트로 저장한 후\n",
    "# 각 학생의 이름, 성적, 총합, 평균\n",
    "# 전체 학생의 과목별 총점과 평균을 구하세요\n",
    "\n",
    "class Student:\n",
    "    def __init__(self,name,kor,eng,math):\n",
    "        self.name = name\n",
    "        self.kor = kor\n",
    "        self.eng = eng\n",
    "        self.math = math\n",
    "    \n",
    "    def score_sum(self):\n",
    "        return kor + eng + math\n",
    "    def score_avg(self):\n",
    "        return self.score_sum() / 3\n",
    "    def __str__(self):\n",
    "        return \"{}\\t{}\\t{}\".format(self.name, self_score_sum(),self.score_avg())\n",
    "        "
   ]
  },
  {
   "cell_type": "code",
   "execution_count": null,
   "metadata": {},
   "outputs": [],
   "source": [
    "def input_data():\n",
    "    name = input(\"이름을 입력하세요 : \")\n",
    "    while name != 'q':\n",
    "            input_score = input(\"국 영 수 점수 입력 > \").split()\n",
    "            kor = int(input_score[0])\n",
    "            eng = int(input_score[1])\n",
    "            math = int(input_score[2])\n",
    "            \n",
    "        "
   ]
  },
  {
   "cell_type": "code",
   "execution_count": 14,
   "metadata": {},
   "outputs": [
    {
     "name": "stdout",
     "output_type": "stream",
     "text": [
      "공부를 합니다\n",
      "공부를 합니다\n",
      "학생을 가르칩니다\n",
      "공부를 합니다\n",
      "학생을 가르칩니다\n"
     ]
    }
   ],
   "source": [
    "# instance() 함수 : instance가 클래스 소속에 대해 True, False \n",
    "class Student:\n",
    "    #def __init__(self):\n",
    "#            self.a = 'test'  # 메모리에 값을 할당할 수 없음, error\n",
    "            #self.score = [] \n",
    "    def study(self):\n",
    "        print(\"공부를 합니다\")\n",
    "class Teacher:\n",
    "    def teach(self):\n",
    "        print(\"학생을 가르칩니다\")\n",
    "        \n",
    "classroom = [Student(),Student(), Teacher(),Student(),Teacher()]\n",
    "\n",
    "# 각 인스턴스가 Student 이면 학생에 print 아니면 teacehr의 print()\n",
    "for person in classroom:\n",
    "    if isinstance(person, Student):\n",
    "        person.study() # 학생 클래스에 print()\n",
    "    else:\n",
    "        person.teach() # 선생 클래스에 print()"
   ]
  },
  {
   "cell_type": "code",
   "execution_count": 21,
   "metadata": {},
   "outputs": [],
   "source": [
    "# 클래스를 선언합니다.\n",
    "class Student:\n",
    "    count = 0\n",
    "    def __init__(self, name, korean, math, english, science):\n",
    "        self.name = name\n",
    "        self.korean = korean\n",
    "        self.math = math\n",
    "        self.english = english\n",
    "        self.science = science\n",
    "        \n",
    "        # class 변수를 1 증가 시킴\n",
    "        Student.count += 1\n",
    "        # 클래스 변수 출력\n",
    "        print(\"{}번째 학생 \".format(Student.count))\n",
    "        \n",
    "    def get_sum(self):\n",
    "        return self.korean + self.math +\\\n",
    "            self.english + self.science\n",
    "\n",
    "    def get_average(self):\n",
    "        return self.get_sum() / 4\n",
    "    def __str__(self):        # 함수 호출 시 일반 함수처럼 호출 가능                              \n",
    "#     def str_print(self):    # 함수 호출 시 일반 함수처럼 호출 가능\n",
    "        return \"{}\\t{}\\t{}\".format(\n",
    "            self.name,\n",
    "            self.get_sum(),\n",
    "            self.get_average()) \n",
    "    def __eq__(self, value):  # a == b\n",
    "        return self.get_sum() == value.get_sum()\n",
    "    def __ne__(self, value):  # a != b\n",
    "        return self.get_sum() != value.get_sum()"
   ]
  },
  {
   "cell_type": "code",
   "execution_count": 22,
   "metadata": {},
   "outputs": [
    {
     "name": "stdout",
     "output_type": "stream",
     "text": [
      "student_a == student_b :  False\n",
      "student_a != student_b :  True\n"
     ]
    }
   ],
   "source": [
    "student_a = Student(\"윤인성\", 87, 98, 88, 95)\n",
    "student_b = Student(\"연하진\", 92, 98, 96, 98)\n",
    "print(\"student_a == student_b : \", student_a == student_b)\n",
    "print(\"student_a != student_b : \", student_a != student_b)"
   ]
  },
  {
   "cell_type": "code",
   "execution_count": 23,
   "metadata": {},
   "outputs": [
    {
     "name": "stdout",
     "output_type": "stream",
     "text": [
      "이름\t총점\t평균\n",
      "윤인성\t368\t92.0\n",
      "연하진\t384\t96.0\n",
      "구지연\t356\t89.0\n",
      "나선주\t378\t94.5\n",
      "윤아린\t389\t97.25\n",
      "윤명월\t336\t84.0\n"
     ]
    }
   ],
   "source": [
    "# 학생 리스트를 선언합니다.\n",
    "students = [\n",
    "    Student(\"윤인성\", 87, 98, 88, 95),\n",
    "    Student(\"연하진\", 92, 98, 96, 98),\n",
    "    Student(\"구지연\", 76, 96, 94, 90),\n",
    "    Student(\"나선주\", 98, 92, 96, 92),\n",
    "    Student(\"윤아린\", 95, 98, 98, 98),\n",
    "    Student(\"윤명월\", 64, 88, 92, 92)\n",
    "]\n",
    "\n",
    "# 출력합니다.\n",
    "print(\"이름\", \"총점\", \"평균\", sep=\"\\t\")\n",
    "for student in students:\n",
    "    print(str(student))\n",
    "#       print(student.str_print())"
   ]
  },
  {
   "cell_type": "code",
   "execution_count": 27,
   "metadata": {},
   "outputs": [],
   "source": [
    "# 클래스 변수 : 클래스명. 변수명,  클래스 함수 :@classmethod def 함수명() :\n",
    "\n",
    "class Student:\n",
    "    count = 0\n",
    "    students = []\n",
    "    \n",
    "    # 클래스 함수 \n",
    "    @classmethod\n",
    "    def print(cls):\n",
    "        print(\"------------ 학생 목록 ------------\")\n",
    "        print('이름\\t\\총점\\t평균')\n",
    "        for student in cls.students:\n",
    "            print(str(student))\n",
    "        print(\"-----------------------------------\")\n",
    "        \n",
    "    def __init__(self, name, korean, math, english, science):\n",
    "        self.name = name\n",
    "        self.korean = korean\n",
    "        self.math = math\n",
    "        self.english = english\n",
    "        self.science = science\n",
    "        \n",
    "        # class 변수를 1 증가 시킴\n",
    "        Student.count += 1  #학생 수 추가시킴\n",
    "        # 클래스 변수 출력\n",
    "        Student.students.append(self)  # 학생 리스트에 데이터 추가\n",
    "        \n",
    "    def get_sum(self):\n",
    "        return self.korean + self.math +\\\n",
    "            self.english + self.science\n",
    "\n",
    "    def get_average(self):\n",
    "        return self.get_sum() / 4\n",
    "    def __str__(self):        # 함수 호출 시 일반 함수처럼 호출 가능\n",
    "        return \"{}\\t{}\\t{}\".format(\n",
    "            self.name,\n",
    "            self.get_sum(),\n",
    "            self.get_average())       "
   ]
  },
  {
   "cell_type": "code",
   "execution_count": 28,
   "metadata": {},
   "outputs": [
    {
     "name": "stdout",
     "output_type": "stream",
     "text": [
      "------------ 학생 목록 ------------\n",
      "이름\t\\총점\t평균\n",
      "윤인성\t368\t92.0\n",
      "연하진\t384\t96.0\n",
      "구지연\t356\t89.0\n",
      "나선주\t378\t94.5\n",
      "윤아린\t389\t97.25\n",
      "윤명월\t336\t84.0\n",
      "김미화\t354\t88.5\n",
      "김연화\t332\t83.0\n",
      "박아현\t372\t93.0\n",
      "서준서\t247\t61.75\n",
      "-----------------------------------\n"
     ]
    }
   ],
   "source": [
    "Student(\"윤인성\", 87, 98, 88, 95)\n",
    "Student(\"연하진\", 92, 98, 96, 98)\n",
    "Student(\"구지연\", 76, 96, 94, 90)\n",
    "Student(\"나선주\", 98, 92, 96, 92)\n",
    "Student(\"윤아린\", 95, 98, 98, 98)\n",
    "Student(\"윤명월\", 64, 88, 92, 92)\n",
    "Student(\"김미화\", 82, 86, 98, 88)\n",
    "Student(\"김연화\", 88, 74, 78, 92)\n",
    "Student(\"박아현\", 97, 92, 88, 95)\n",
    "Student(\"서준서\", 45, 52, 72, 78)\n",
    "\n",
    "Student.print()"
   ]
  },
  {
   "cell_type": "code",
   "execution_count": 38,
   "metadata": {},
   "outputs": [
    {
     "name": "stdout",
     "output_type": "stream",
     "text": [
      "A - 생성되었습니다\n",
      "A - 파괴되었습니다\n",
      "B - 생성되었습니다\n",
      "B - 파괴되었습니다\n",
      "C - 생성되었습니다\n",
      "C - 파괴되었습니다\n"
     ]
    }
   ],
   "source": [
    "class Test:\n",
    "    def __init__(self, name):\n",
    "        self.name = name\n",
    "        print(\"{} - 생성되었습니다\".format(self.name))\n",
    "    def __del__(self):\n",
    "        print(\"{} - 파괴되었습니다\".format(self.name))\n",
    "\n",
    "a = Test(\"A\")\n",
    "b = Test(\"B\")\n",
    "c = Test(\"C\")"
   ]
  },
  {
   "cell_type": "code",
   "execution_count": 39,
   "metadata": {},
   "outputs": [
    {
     "data": {
      "text/plain": [
       "'A'"
      ]
     },
     "execution_count": 39,
     "metadata": {},
     "output_type": "execute_result"
    }
   ],
   "source": [
    "a.name"
   ]
  },
  {
   "cell_type": "code",
   "execution_count": 40,
   "metadata": {},
   "outputs": [],
   "source": [
    "Student.students = []\n",
    "Student.count = 0\n",
    "if Student.count > 0:\n",
    "    Student.print()\n",
    "    "
   ]
  },
  {
   "cell_type": "code",
   "execution_count": 57,
   "metadata": {},
   "outputs": [],
   "source": [
    "class Circle:\n",
    "    def __init__(self,radius):\n",
    "        self.__radius = radius   # private 변수 : 외부에서 접근불가\n",
    "        \n",
    "    def get_circle_area(self): # getter\n",
    "        return self.__radius * 2 * math.pi\n",
    "    \n",
    "    \n",
    "#     def get_radius(self):   # getter\n",
    "#         return self.__radius\n",
    "#     def set_radius(self,value):  # setter\n",
    "#         self.__radius = value\n",
    "    @property\n",
    "    def radius(self):          # getter\n",
    "        return self.__radius\n",
    "    @radius.setter\n",
    "    def radius(self,value):   # setter\n",
    "        self.__radius = value\n"
   ]
  },
  {
   "cell_type": "code",
   "execution_count": 58,
   "metadata": {},
   "outputs": [
    {
     "name": "stdout",
     "output_type": "stream",
     "text": [
      "before :  10\n",
      "after :  20\n"
     ]
    }
   ],
   "source": [
    "circle = Circle(10)\n",
    "circle.get_circle_area()\n",
    "print(\"before : \",circle.radius)\n",
    "circle.radius = 20\n",
    "print(\"after : \",circle.radius)"
   ]
  },
  {
   "cell_type": "code",
   "execution_count": 55,
   "metadata": {},
   "outputs": [],
   "source": [
    "import math"
   ]
  },
  {
   "cell_type": "code",
   "execution_count": 60,
   "metadata": {},
   "outputs": [],
   "source": [
    "# 이름과 점수를 입력받아 저장 : Stu -> class를 생성\n",
    "# 이름에 'q'가 입력되면 입력 종료\n",
    "# 학생의 이름을 private 변수로 지정\n",
    "# 학생의 이름과 성적을 출력\n",
    "# 수정하고자 하는 이름을 입력받아 검색해서 이름과 성적을 출력\n",
    "# 검색된 자료가 존재하면 수정하고자 하는 이름을 입력받아 기존의 이름 수정\n",
    "# 수정된 최종 전체 학생 결과 출력\n",
    "\n",
    "class Stu:\n",
    "    def __init__(self,name,score):\n",
    "        self.__name = name\n",
    "        self.score = score\n",
    "    @property\n",
    "    def name(self):\n",
    "        return self.__name\n",
    "    @name.setter\n",
    "    def name(self, value):\n",
    "        self.__name = value  "
   ]
  },
  {
   "cell_type": "code",
   "execution_count": 61,
   "metadata": {},
   "outputs": [
    {
     "name": "stdout",
     "output_type": "stream",
     "text": [
      "이름 성적 입력 : 박지훈 100\n",
      "이름 성적 입력 : 박성진 100\n",
      "이름 성적 입력 : 이성진 80\n",
      "이름 성적 입력 : q\n",
      "박지훈  :  100\n",
      "박성진  :  100\n",
      "이성진  :  80\n",
      "\n",
      "수정하고자 하는 이름 입력 :박성진\n",
      "바꿀 이름 입력 : 박성우\n",
      "수정하고자 하는 이름 없음\n",
      "\n",
      "박지훈  :  100\n",
      "박성우  :  100\n",
      "이성진  :  80\n",
      "\n"
     ]
    }
   ],
   "source": [
    "class Stu:\n",
    "    def __init__(self, name, score):\n",
    "        self.__name = name\n",
    "        self.score = score\n",
    "    @property\n",
    "    def name(self):\n",
    "        return self.__name\n",
    "    @name.setter\n",
    "    def name(self, value):\n",
    "        self.__name = value        \n",
    "\n",
    "students = []\n",
    "while True:\n",
    "    input_data = input(\"이름 성적 입력 : \").split()\n",
    "    if  input_data[0] == 'q':\n",
    "        break\n",
    "    students.append(Stu(input_data[0],input_data[1]))\n",
    "# 학생의 이름과 성적 출력\n",
    "for student in students:\n",
    "    print(student.name, ' : ', student.score)\n",
    "print()\n",
    "\n",
    "# 수정하고자 하는 이름 입력\n",
    "search_name = input(\"수정하고자 하는 이름 입력 :\")\n",
    "for student in students:\n",
    "    if student.name == search_name:\n",
    "        change_name = input(\"바꿀 이름 입력 : \")\n",
    "        student.name = change_name\n",
    "else:\n",
    "    print(\"수정하고자 하는 이름 없음\")\n",
    "print()\n",
    "\n",
    "# 변경된 학생의 이름과 성적 출력\n",
    "for student in students:\n",
    "    print(student.name, ' : ', student.score)\n",
    "print()"
   ]
  },
  {
   "cell_type": "code",
   "execution_count": 65,
   "metadata": {},
   "outputs": [],
   "source": [
    "# 클래스의 상속\n",
    "# 부모 클래스 선언\n",
    "class Parent:\n",
    "    def __init__(self):\n",
    "        self.value = \"테스트\"\n",
    "        print(\"Parent 클래스의 __init__ 메소드 호출\")\n",
    "    def test(self):\n",
    "        print(\"Parent 클래스 호출\")\n",
    "        \n",
    "# 자식 클래스 생성\n",
    "class Child(Parent): # 클래스명(부모 클래스명)\n",
    "    def __init__(self):\n",
    "        Parent.__init__(self)\n",
    "        print(\"Child 클래스의 __init()__ 메서드 호출\")\n",
    "    def test(self):   # 부모의 같은 이름의 함수 재정의 : 오버라이드\n",
    "        print(\"Child 클래스 호출\")\n",
    "    def child_func(self):\n",
    "        print(\"child Nes function 호출\")"
   ]
  },
  {
   "cell_type": "code",
   "execution_count": 79,
   "metadata": {},
   "outputs": [
    {
     "name": "stdout",
     "output_type": "stream",
     "text": [
      "Parent 클래스의 __init__ 메소드 호출\n",
      "Child 클래스의 __init()__ 메서드 호출\n",
      "Child 클래스 호출\n",
      "테스트\n",
      "child Nes function 호출\n"
     ]
    }
   ],
   "source": [
    "child = Child()\n",
    "child.test()\n",
    "print(child.value)\n",
    "child.child_func()"
   ]
  },
  {
   "cell_type": "code",
   "execution_count": 81,
   "metadata": {
    "scrolled": true
   },
   "outputs": [
    {
     "name": "stdout",
     "output_type": "stream",
     "text": [
      "<class 'str'>\n"
     ]
    }
   ],
   "source": [
    "print(type(\"str\"))"
   ]
  },
  {
   "cell_type": "code",
   "execution_count": 82,
   "metadata": {
    "collapsed": true
   },
   "outputs": [
    {
     "ename": "IndentationError",
     "evalue": "expected an indented block (<ipython-input-82-a1f8ee817aa9>, line 3)",
     "output_type": "error",
     "traceback": [
      "\u001b[1;36m  File \u001b[1;32m\"<ipython-input-82-a1f8ee817aa9>\"\u001b[1;36m, line \u001b[1;32m3\u001b[0m\n\u001b[1;33m    class 클래스명:\u001b[0m\n\u001b[1;37m    ^\u001b[0m\n\u001b[1;31mIndentationError\u001b[0m\u001b[1;31m:\u001b[0m expected an indented block\n"
     ]
    }
   ],
   "source": [
    "def 함수명():\n",
    "    \n",
    "class 클래스명:\n",
    "    클래스 변수\n",
    "    @classmethod\n",
    "    def 함수명() --> 클래스 함수\n",
    "    def __init__(self,...):\n",
    "        self.__변수명 --> private 변수\n",
    "    @property\n",
    "    def 변수명(self):       # getter\n",
    "        return self.__변수명\n",
    "    @변수명.setter          # setter\n",
    "    def 변수명(self, 값):\n",
    "        self.__변수명 = 값\n",
    "    \n",
    "    def get_func(self,...):\n",
    "        \n",
    "함수명(값,...)\n",
    "클래스명(값,...) --> 생성자, __init__ 함수를 실행\n",
    "클래스명.변수 --> 클래스 변수\n",
    "클래스명.함수명 --> 클래스 함수\n",
    "오브젝트명.변수명 --> private getter \n",
    "오브젝트명.변수명 = 값 -->  private setter"
   ]
  }
 ],
 "metadata": {
  "kernelspec": {
   "display_name": "Python 3",
   "language": "python",
   "name": "python3"
  },
  "language_info": {
   "codemirror_mode": {
    "name": "ipython",
    "version": 3
   },
   "file_extension": ".py",
   "mimetype": "text/x-python",
   "name": "python",
   "nbconvert_exporter": "python",
   "pygments_lexer": "ipython3",
   "version": "3.8.5"
  }
 },
 "nbformat": 4,
 "nbformat_minor": 4
}

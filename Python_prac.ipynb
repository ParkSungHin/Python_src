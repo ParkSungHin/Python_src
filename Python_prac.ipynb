{
 "cells": [
  {
   "cell_type": "code",
   "execution_count": 1,
   "metadata": {},
   "outputs": [
    {
     "name": "stdout",
     "output_type": "stream",
     "text": [
      "273는 홀수입니다\n",
      "103는 홀수입니다\n",
      "5는 홀수입니다\n",
      "32는 짝수입니다\n",
      "65는 홀수입니다\n",
      "9는 홀수입니다\n",
      "72는 짝수입니다\n",
      "800는 짝수입니다\n",
      "99는 홀수입니다\n"
     ]
    }
   ],
   "source": [
    "# page 158\n",
    "numbers = [273,103,5,32,65,9,72,800,99]\n",
    "for number in numbers:\n",
    "    if number % 2 == 0:\n",
    "        \n",
    "        print(\"{}는 짝수입니다\".format(number))\n",
    "    else:\n",
    "        print(\"{}는 홀수입니다\".format(number))"
   ]
  },
  {
   "cell_type": "code",
   "execution_count": 10,
   "metadata": {},
   "outputs": [
    {
     "name": "stdout",
     "output_type": "stream",
     "text": [
      "3\n",
      "273 는 3 자릿수입니다.\n",
      "103 는 3 자릿수입니다.\n",
      "5 는 1 자릿수입니다.\n",
      "32 는 2 자릿수입니다.\n",
      "65 는 2 자릿수입니다.\n",
      "9 는 1 자릿수입니다.\n",
      "72 는 2 자릿수입니다.\n",
      "800 는 3 자릿수입니다.\n",
      "99 는 2 자릿수입니다.\n"
     ]
    }
   ],
   "source": [
    "numbers = [273,103,5,32,65,9,72,800,99]\n",
    "print(len(str(273)))\n",
    "for number in numbers:\n",
    "    print(\"{} 는 {} 자릿수입니다.\".format(number,len(str(number))))"
   ]
  },
  {
   "cell_type": "code",
   "execution_count": null,
   "metadata": {},
   "outputs": [],
   "source": []
  }
 ],
 "metadata": {
  "kernelspec": {
   "display_name": "Python 3",
   "language": "python",
   "name": "python3"
  },
  "language_info": {
   "codemirror_mode": {
    "name": "ipython",
    "version": 3
   },
   "file_extension": ".py",
   "mimetype": "text/x-python",
   "name": "python",
   "nbconvert_exporter": "python",
   "pygments_lexer": "ipython3",
   "version": "3.8.5"
  }
 },
 "nbformat": 4,
 "nbformat_minor": 4
}

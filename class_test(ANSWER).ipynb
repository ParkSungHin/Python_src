{
 "cells": [
  {
   "cell_type": "code",
   "execution_count": 5,
   "metadata": {},
   "outputs": [
    {
     "name": "stdout",
     "output_type": "stream",
     "text": [
      "홍길동 : 90, 80, 총점 : 170\n"
     ]
    }
   ],
   "source": [
    "class Student:\n",
    "#     def __init__(self, 추가적인 매개변수)\n",
    "    def __init__(self, name, kor,math):\n",
    "        self.name = name\n",
    "        self.kor = kor\n",
    "        self.math = math\n",
    "\n",
    "    def get_sum(self):\n",
    "        return self.kor + self.math\n",
    "\n",
    "student_1 = Student('홍길동', 90,80) # 클래스명() -> 생성자,하나의 instance 생성\n",
    "print(\"{} : {}, {}, 총점 : {}\".format(student_1.name,student_1.kor,\n",
    "                                   student_1.math, student_1.get_sum()))"
   ]
  },
  {
   "cell_type": "code",
   "execution_count": null,
   "metadata": {},
   "outputs": [],
   "source": [
    "# 이름, 국어, 영어, 수학 점수를 입력받아\n",
    "# 클래스의 리스트로 저장한 후\n",
    "# 각 학생의 이름, 성적, 총합, 평균\n",
    "# 전체 학생의 과목별 총점과 평균을 구하세요"
   ]
  },
  {
   "cell_type": "code",
   "execution_count": 7,
   "metadata": {},
   "outputs": [],
   "source": [
    "class Student:\n",
    "    def __init__(self, name, kor,eng,math):\n",
    "        self.name = name\n",
    "        self.kor = kor\n",
    "        self.math = math\n",
    "        self.eng = eng           \n",
    "    def get_sum(self):\n",
    "        return self.kor + self.eng + self.math\n",
    "    def get_avg(self):\n",
    "        return self.get_sum() / 3"
   ]
  },
  {
   "cell_type": "code",
   "execution_count": 13,
   "metadata": {},
   "outputs": [],
   "source": [
    "def input_data():\n",
    "    name = input(\"이름 입력 \")\n",
    "    while name != 'q':\n",
    "        score = input(\"국어 영어 수학 점수 입력 : \").split()\n",
    "        #새로운 학생 자료 생성 : instance\n",
    "        students.append(Student(name,int(score[0]), int(score[1]),\n",
    "                               int(score[2])))\n",
    "        name = input(\"이름 입력 \")"
   ]
  },
  {
   "cell_type": "code",
   "execution_count": 14,
   "metadata": {},
   "outputs": [
    {
     "name": "stdout",
     "output_type": "stream",
     "text": [
      "이름 입력 a \n",
      "국어 영어 수학 점수 입력 : 22 33 44\n",
      "이름 입력 b \n",
      "국어 영어 수학 점수 입력 : 55 66 77\n",
      "이름 입력 q\n"
     ]
    }
   ],
   "source": [
    "students = []\n",
    "input_data()"
   ]
  },
  {
   "cell_type": "code",
   "execution_count": 24,
   "metadata": {},
   "outputs": [
    {
     "name": "stdout",
     "output_type": "stream",
     "text": [
      "a  22 44 99 33.0\n",
      "b  55 77 198 66.0\n"
     ]
    }
   ],
   "source": [
    "score_tot = [[],[],[]]\n",
    "for student in  students:\n",
    "    print(student.name, student.kor, student.math, student.get_sum(), \n",
    "          student.get_avg())\n",
    "    score_tot[0].append(student.kor)\n",
    "    score_tot[1].append(student.eng)\n",
    "    score_tot[2].append(student.math)    "
   ]
  },
  {
   "cell_type": "code",
   "execution_count": 26,
   "metadata": {},
   "outputs": [
    {
     "name": "stdout",
     "output_type": "stream",
     "text": [
      "77 38.5\n",
      "99 49.5\n",
      "121 60.5\n"
     ]
    }
   ],
   "source": [
    "for data in score_tot:\n",
    "    print(sum(data), sum(data)/len(data))"
   ]
  }
 ],
 "metadata": {
  "kernelspec": {
   "display_name": "Python 3",
   "language": "python",
   "name": "python3"
  },
  "language_info": {
   "codemirror_mode": {
    "name": "ipython",
    "version": 3
   },
   "file_extension": ".py",
   "mimetype": "text/x-python",
   "name": "python",
   "nbconvert_exporter": "python",
   "pygments_lexer": "ipython3",
   "version": "3.8.5"
  }
 },
 "nbformat": 4,
 "nbformat_minor": 5
}
